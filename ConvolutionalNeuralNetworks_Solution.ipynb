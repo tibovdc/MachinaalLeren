{
  "nbformat": 4,
  "nbformat_minor": 0,
  "metadata": {
    "kernelspec": {
      "display_name": "Python 3",
      "language": "python",
      "name": "python3"
    },
    "language_info": {
      "codemirror_mode": {
        "name": "ipython",
        "version": 3
      },
      "file_extension": ".py",
      "mimetype": "text/x-python",
      "name": "python",
      "nbconvert_exporter": "python",
      "pygments_lexer": "ipython3",
      "version": "3.6.9"
    },
    "colab": {
      "name": "ConvolutionalNeuralNetworks-Solution.ipynb",
      "provenance": []
    },
    "accelerator": "GPU"
  },
  "cells": [
    {
      "cell_type": "markdown",
      "metadata": {
        "id": "gBXGCP7JrQeM"
      },
      "source": [
        "# Lab 9: Convolutional neural networks\n",
        "In the last session, we reshaped our 28x28 images into a 784 dimensional vector since MLPs require one dimensional input data. This is fine for many types of data but in the case of images we are loosing a lot of information by treating the image as a vector of independent values. Neighboring pixels are highly correlated and we should exploit this knowledge to make our network more powerful. **Convolutional neural networks** use the **convolution** operation to do this. Here we will use **2D convolutional layers** that work on **2D input** (we only count the spatial dimensions here and not the channel dimension e.g. in the case of RGB images) although it is also possible to use them for 1D (e.g. timeseries) and 3D  input (e.g. video).\n",
        "\n",
        "A 2D convolutional network has a set of learned 2D **filters** or **kernels** that are moved over the input using a sliding window. At each position, the filter is multiplied with the underlying pixels to get a single output value for that position. By sliding the filter over the entire input, we get a **feature map**, a **filtered** version of the input. Intuitively, you can see the filter as a **feature detector** that scans the entire image for **patches** that match the feature. A convolutional layer has multiple filters (typically 64-4096). The size of the filter is a hyperparameter but in the case of image classification it is often 3, 5 or 7. \n",
        "\n",
        "There are three important characteristics that help convolutional neural networks to improve the performance of a model:\n",
        "- **Sparse interactions**: In a **fully connected layer**, every output value depends on every input value. Every neuron looks at the entire input. In a convolutional network we have a small filter that only looks at a small patch at a time. This **sparse connectivity** makes the network more efficient since it needs less parameters and allows the network to focus on small parts of the image at a time.\n",
        "- **Parameter sharing**: The same filter is used at every location in the image. This makes a lot of sense in the case of image recognition, a filter that detect edges for example will be useful at every location.\n",
        "- **Equivariant representations**: Convolutional representations are **equivariant to translation**. This means that if the input is moved to the left or to the right, then the output will also be moved accordingly. This is a very useful characteristic for image classification since it doesn't really matter if our digit is moved a few pixels to the left or to the right, the model should be able to deal with this.\n",
        "\n",
        "In addition to convolutions and non-linearities, convolutional neural networks also include **pooling layers**. These layers are not trained but perform a fixed operation that reduces the **spatial dimensionality** of the data. The most common pooling operation: **max pooling** looks at a subset of the feature map (for example 2x2 values) and reduces this to the maximum value. This allows the filters of the next layers to work on a larger part of the original input (**the receptive field**).\n",
        "\n",
        "<div>\n",
        "<img style=\"float:left\" src=\"images/conv.gif\"/>\n",
        "<img style=\"float:left, margin-left:50px\" src=\"images/pooling.png\"/>\n",
        "</div>\n",
        "\n",
        "\n",
        "Source: https://m-alcu.github.io/blog/2018/01/13/neural-layers/"
      ]
    },
    {
      "cell_type": "markdown",
      "metadata": {
        "id": "Kg9SKZuvrQeQ"
      },
      "source": [
        "Convolutional neural networks learn **hierarchies of features**. The first layers learn to detect basic, local features such as color transitions and edges. These are then combined by the next layers into basic shapes and finally into parts of objects.\n",
        "\n",
        "<img style=\"float:left, width=450\" src=\"images/features.png\"/>\n",
        "\n",
        "<br/>\n",
        "\n",
        "Source: https://towardsdatascience.com/convolutional-neural-network-for-breast-cancer-classification-52f1213dcc9\n"
      ]
    },
    {
      "cell_type": "markdown",
      "metadata": {
        "id": "YmmX-WCdrQeQ"
      },
      "source": [
        "This time we play with the CIFAR-10 dataset. Instead of reshaping it into a single vector, we keep the data as it is, which is 32x32x3 (**RGB**).\n",
        "Ref: https://keras.io/api/datasets/cifar10/\n",
        "\n",
        "<font color='red'>Task: Explore the dataset. What is the size of the training/testing set? What is the image size? Preprocess the data for training and testing by simply scaling the pixel values to [0,1]. </font>"
      ]
    },
    {
      "cell_type": "code",
      "metadata": {
        "colab": {
          "base_uri": "https://localhost:8080/"
        },
        "id": "W_dJGkIorQeS",
        "outputId": "4b9d06e0-fdc3-43dc-84fd-14c492f6455b"
      },
      "source": [
        "import timeit\n",
        "import matplotlib.pyplot as plt \n",
        "import numpy as np\n",
        "\n",
        "import tensorflow as tf\n",
        "import tensorflow.keras as keras\n",
        "from keras.datasets import cifar10, cifar100\n",
        "from tensorflow.keras import Sequential, layers\n",
        "from tensorflow.keras.layers import Flatten, Dense, Conv2D, MaxPooling2D, Dropout, BatchNormalization\n",
        "from tensorflow.keras.optimizers import SGD\n",
        "\n",
        "\n",
        "# the data, split between train and test sets\n",
        "(x_train, y_train), (x_test, y_test) = cifar10.load_data()\n",
        "\n",
        "\n",
        "... #print the shape of training and testing set, along with the image size\n",
        "print('x_train shape:', x_train.shape)#data\n",
        "print('y_train shape:', y_train.shape)#label\n",
        "print('x_test shape:', x_test.shape)\n",
        "print('y_test shape:', y_test.shape)\n",
        "\n",
        "...#define the input shape for the model\n",
        "input_shape = x_train[0].shape\n",
        "print(\"Model input shape:\", input_shape)\n",
        "\n",
        "...#normalize the data to 0~1\n",
        "x_train = x_train.astype('float32')\n",
        "x_test = x_test.astype('float32')\n",
        "x_train /= 255\n",
        "x_test /= 255\n",
        "\n",
        "...#define number of class \n",
        "num_classes = 10\n",
        "\n",
        "...#categorical the class\n",
        "y_train = keras.utils.to_categorical(y_train, num_classes)\n",
        "y_test = keras.utils.to_categorical(y_test, num_classes)\n",
        "\n",
        "batch_size = 128"
      ],
      "execution_count": 1,
      "outputs": [
        {
          "output_type": "stream",
          "name": "stdout",
          "text": [
            "x_train shape: (50000, 32, 32, 3)\n",
            "y_train shape: (50000, 1)\n",
            "x_test shape: (10000, 32, 32, 3)\n",
            "y_test shape: (10000, 1)\n",
            "Model input shape: (32, 32, 3)\n"
          ]
        }
      ]
    },
    {
      "cell_type": "markdown",
      "metadata": {
        "id": "YPWjaxo2rQeT"
      },
      "source": [
        "The code below defines a convolutional network with three convolutional layers, each followed by a maxpooling operation. After the last convolutional layer, we **flatten** the **representation** into a 1 dimensional vector and give it to a dense layer with 64 neurons followed by the output layer with 10 neurons. Intuitively, the convolutional part of the model extracts local image based features. The dense part combines all information over the entire image and uses that to do the final classification. There are many hyperparameters to configure such as the kernel size, the number of convolutional filters and the activation function. We use padding=\"same\" to pad the output of the convolutional layer with zeros to make it the same size as the input. This is not necessary but it makes it easier to calculate the intermediate feature dimensions. "
      ]
    },
    {
      "cell_type": "code",
      "metadata": {
        "colab": {
          "base_uri": "https://localhost:8080/"
        },
        "id": "3cNaAg1hrQeT",
        "outputId": "6e685523-db25-41f0-a9e2-e2afed33a1fc"
      },
      "source": [
        "def build_model():\n",
        "  model = Sequential()\n",
        "  model.add(Conv2D(32, kernel_size=(3, 3), padding=\"same\", activation='relu', input_shape=input_shape))\n",
        "  model.add(MaxPooling2D(pool_size=(2, 2)))\n",
        "  model.add(Conv2D(64, (3, 3), activation='relu', padding=\"same\"))\n",
        "  model.add(MaxPooling2D(pool_size=(2, 2)))\n",
        "  model.add(Conv2D(64, (3, 3), activation='relu', padding=\"same\"))\n",
        "  model.add(MaxPooling2D(pool_size=(2, 2)))\n",
        "\n",
        "  model.add(Flatten())\n",
        "  model.add(Dense(64, activation='relu'))\n",
        "  model.add(Dense(10, activation='softmax'))\n",
        "  return model\n",
        "\n",
        "start = timeit.default_timer()\n",
        "\n",
        "...#force to train with cpu\n",
        "with tf.device('/cpu:0'):\n",
        "    model = build_model()\n",
        "    model.compile(loss=keras.losses.categorical_crossentropy, optimizer=SGD(lr=0.01), metrics=['accuracy'])\n",
        "\n",
        "    history = model.fit(x_train, y_train,\n",
        "              batch_size=batch_size,\n",
        "              epochs=2,\n",
        "              verbose=1,\n",
        "              validation_data=(x_test, y_test))\n",
        "\n",
        "    score = model.evaluate(x_test, y_test, verbose=0)\n",
        "    print(score)\n",
        "\n",
        "stop = timeit.default_timer()\n",
        "print('Computation time using CPU: ', stop - start)  "
      ],
      "execution_count": 2,
      "outputs": [
        {
          "output_type": "stream",
          "name": "stderr",
          "text": [
            "/usr/local/lib/python3.7/dist-packages/keras/optimizer_v2/gradient_descent.py:102: UserWarning: The `lr` argument is deprecated, use `learning_rate` instead.\n",
            "  super(SGD, self).__init__(name, **kwargs)\n"
          ]
        },
        {
          "output_type": "stream",
          "name": "stdout",
          "text": [
            "Epoch 1/2\n",
            "391/391 [==============================] - 97s 246ms/step - loss: 2.2186 - accuracy: 0.1931 - val_loss: 2.0705 - val_accuracy: 0.2598\n",
            "Epoch 2/2\n",
            "391/391 [==============================] - 96s 245ms/step - loss: 1.9777 - accuracy: 0.2913 - val_loss: 1.9064 - val_accuracy: 0.3182\n",
            "[1.9063615798950195, 0.3181999921798706]\n",
            "Computation time using CPU:  208.81456985499972\n"
          ]
        }
      ]
    },
    {
      "cell_type": "markdown",
      "metadata": {
        "id": "BbVCnWwarQeT"
      },
      "source": [
        "<font color='red'>Task: You can easily move the model to the GPU which should result in a large improvement in speed. You need a compatible NVIDIA GPU with all drivers installed to do this. You can use Google Colab to try this if you don't have a GPU (https://colab.research.google.com/). Make sure you select a GPU runtime on Colab (Runtime - Change runtime type - GPU).\n",
        " </font>"
      ]
    },
    {
      "cell_type": "code",
      "metadata": {
        "colab": {
          "base_uri": "https://localhost:8080/"
        },
        "id": "Bf3FYwPSrQeU",
        "outputId": "a9256709-09e0-49d7-e5ff-9f1aa88a0cd0"
      },
      "source": [
        "start = timeit.default_timer()\n",
        "\n",
        "...#force to train with gpu\n",
        "with tf.device('/gpu:0'):\n",
        "    model = build_model()\n",
        "    model.compile(loss=keras.losses.categorical_crossentropy, optimizer=SGD(lr=0.01), metrics=['accuracy'])\n",
        "\n",
        "    history = model.fit(x_train, y_train,\n",
        "              batch_size=batch_size,\n",
        "              epochs=2,\n",
        "              verbose=1,\n",
        "              validation_data=(x_test, y_test))\n",
        "\n",
        "    score = model.evaluate(x_test, y_test, verbose=0)\n",
        "    print(score)\n",
        "\n",
        "stop = timeit.default_timer()\n",
        "print('Computation time using GPU: ', stop - start)  "
      ],
      "execution_count": 3,
      "outputs": [
        {
          "output_type": "stream",
          "name": "stderr",
          "text": [
            "/usr/local/lib/python3.7/dist-packages/keras/optimizer_v2/gradient_descent.py:102: UserWarning: The `lr` argument is deprecated, use `learning_rate` instead.\n",
            "  super(SGD, self).__init__(name, **kwargs)\n"
          ]
        },
        {
          "output_type": "stream",
          "name": "stdout",
          "text": [
            "Epoch 1/2\n",
            "391/391 [==============================] - 15s 16ms/step - loss: 2.2132 - accuracy: 0.1967 - val_loss: 2.0957 - val_accuracy: 0.2395\n",
            "Epoch 2/2\n",
            "391/391 [==============================] - 5s 14ms/step - loss: 2.0093 - accuracy: 0.2797 - val_loss: 1.9290 - val_accuracy: 0.3195\n",
            "[1.9290324449539185, 0.31949999928474426]\n",
            "Computation time using GPU:  22.86173773900009\n"
          ]
        }
      ]
    },
    {
      "cell_type": "markdown",
      "metadata": {
        "id": "wD7ePdIXrQeU"
      },
      "source": [
        "From the computataion time, it can be seen that GPU runs way faster than CPU."
      ]
    },
    {
      "cell_type": "markdown",
      "metadata": {
        "id": "W5juwK2WrQeU"
      },
      "source": [
        "<font color='red'>Task: Calculate the number of parameters in the convolutional layers and in the fully connected layers manually and compare this to the reported numbers. </font>"
      ]
    },
    {
      "cell_type": "code",
      "metadata": {
        "colab": {
          "base_uri": "https://localhost:8080/"
        },
        "id": "2mvY4U89rQeV",
        "outputId": "d8249104-1176-4272-c59c-3096ad2f1cd1"
      },
      "source": [
        "model.summary()\n",
        "\n",
        "print(\"Required memory: \", model.count_params()*4/1000, \"kb\")\n",
        "\n",
        "...#What's the number of parameters of convolution layers?\n",
        "#n_input_channel*kernel_1*kernel_2*n_output_channel + bias_output_channel\n",
        "n_convPara = 3*3*3*32+32 + 32*3*3*64+64 + 64*3*3*64+64\n",
        "print(\"Number of parameters for convolution layers: \", n_convPara)\n",
        "...#What's the number of parameters of fully connected layers?\n",
        "n_fclPara = 1024*64 + 64 + 64*10 + 10\n",
        "print(\"Number of parameters for fully connected layers: \", n_fclPara)"
      ],
      "execution_count": 4,
      "outputs": [
        {
          "output_type": "stream",
          "name": "stdout",
          "text": [
            "Model: \"sequential_1\"\n",
            "_________________________________________________________________\n",
            " Layer (type)                Output Shape              Param #   \n",
            "=================================================================\n",
            " conv2d_3 (Conv2D)           (None, 32, 32, 32)        896       \n",
            "                                                                 \n",
            " max_pooling2d_3 (MaxPooling  (None, 16, 16, 32)       0         \n",
            " 2D)                                                             \n",
            "                                                                 \n",
            " conv2d_4 (Conv2D)           (None, 16, 16, 64)        18496     \n",
            "                                                                 \n",
            " max_pooling2d_4 (MaxPooling  (None, 8, 8, 64)         0         \n",
            " 2D)                                                             \n",
            "                                                                 \n",
            " conv2d_5 (Conv2D)           (None, 8, 8, 64)          36928     \n",
            "                                                                 \n",
            " max_pooling2d_5 (MaxPooling  (None, 4, 4, 64)         0         \n",
            " 2D)                                                             \n",
            "                                                                 \n",
            " flatten_1 (Flatten)         (None, 1024)              0         \n",
            "                                                                 \n",
            " dense_2 (Dense)             (None, 64)                65600     \n",
            "                                                                 \n",
            " dense_3 (Dense)             (None, 10)                650       \n",
            "                                                                 \n",
            "=================================================================\n",
            "Total params: 122,570\n",
            "Trainable params: 122,570\n",
            "Non-trainable params: 0\n",
            "_________________________________________________________________\n",
            "Required memory:  490.28 kb\n",
            "Number of parameters for convolution layers:  56320\n",
            "Number of parameters for fully connected layers:  66250\n"
          ]
        }
      ]
    },
    {
      "cell_type": "markdown",
      "metadata": {
        "id": "rzU4kjmPrQeV"
      },
      "source": [
        "<font color='red'>Task: The code below trains the model for more epochs and shows the shows the loss and accuracy curve.</font>"
      ]
    },
    {
      "cell_type": "code",
      "metadata": {
        "colab": {
          "base_uri": "https://localhost:8080/",
          "height": 1000
        },
        "id": "DfQhaCsprQeV",
        "outputId": "4d992001-89f4-49dd-eda4-ebda1f9e41b8"
      },
      "source": [
        "with tf.device('/gpu:0'):\n",
        "    model = build_model()\n",
        "    model.compile(loss=keras.losses.categorical_crossentropy, optimizer=SGD(lr=0.01), metrics=['accuracy'])\n",
        "\n",
        "    history = model.fit(x_train, y_train,\n",
        "              batch_size=batch_size,\n",
        "              epochs=40,\n",
        "              verbose=1,\n",
        "              validation_data=(x_test, y_test))\n",
        "\n",
        "    score = model.evaluate(x_test, y_test, verbose=0)\n",
        "\n",
        "\n",
        "# Show the learning curve\n",
        "def draw_curve(score, history):\n",
        "    print('Test loss:', score[0])\n",
        "    print('Test accuracy:', score[1])\n",
        "    # Plot training & validation accuracy values\n",
        "    plt.plot(history.history['accuracy'])\n",
        "    plt.plot(history.history['val_accuracy'])\n",
        "    plt.title('Model accuracy')\n",
        "    plt.ylabel('Accuracy')\n",
        "    plt.xlabel('Epoch')\n",
        "    plt.legend(['Train', 'Test'], loc='upper left')\n",
        "    plt.show()\n",
        "\n",
        "    # Plot training & validation loss values\n",
        "    plt.plot(history.history['loss'])\n",
        "    plt.plot(history.history['val_loss'])\n",
        "    plt.title('Model loss')\n",
        "    plt.ylabel('Loss')\n",
        "    plt.xlabel('Epoch')\n",
        "    plt.legend(['Train', 'Test'], loc='upper left')\n",
        "    plt.show()\n",
        "\n",
        "draw_curve(score, history)"
      ],
      "execution_count": 5,
      "outputs": [
        {
          "output_type": "stream",
          "name": "stderr",
          "text": [
            "/usr/local/lib/python3.7/dist-packages/keras/optimizer_v2/gradient_descent.py:102: UserWarning: The `lr` argument is deprecated, use `learning_rate` instead.\n",
            "  super(SGD, self).__init__(name, **kwargs)\n"
          ]
        },
        {
          "output_type": "stream",
          "name": "stdout",
          "text": [
            "Epoch 1/40\n",
            "391/391 [==============================] - 6s 15ms/step - loss: 2.2381 - accuracy: 0.1906 - val_loss: 2.1035 - val_accuracy: 0.2352\n",
            "Epoch 2/40\n",
            "391/391 [==============================] - 5s 14ms/step - loss: 2.0035 - accuracy: 0.2807 - val_loss: 1.9107 - val_accuracy: 0.3192\n",
            "Epoch 3/40\n",
            "391/391 [==============================] - 5s 14ms/step - loss: 1.8648 - accuracy: 0.3373 - val_loss: 1.8311 - val_accuracy: 0.3340\n",
            "Epoch 4/40\n",
            "391/391 [==============================] - 5s 13ms/step - loss: 1.7579 - accuracy: 0.3756 - val_loss: 1.7312 - val_accuracy: 0.3856\n",
            "Epoch 5/40\n",
            "391/391 [==============================] - 5s 13ms/step - loss: 1.6524 - accuracy: 0.4123 - val_loss: 1.5987 - val_accuracy: 0.4229\n",
            "Epoch 6/40\n",
            "391/391 [==============================] - 5s 13ms/step - loss: 1.5748 - accuracy: 0.4395 - val_loss: 1.6363 - val_accuracy: 0.4253\n",
            "Epoch 7/40\n",
            "391/391 [==============================] - 5s 14ms/step - loss: 1.5125 - accuracy: 0.4610 - val_loss: 1.4830 - val_accuracy: 0.4725\n",
            "Epoch 8/40\n",
            "391/391 [==============================] - 5s 13ms/step - loss: 1.4695 - accuracy: 0.4770 - val_loss: 1.4375 - val_accuracy: 0.4852\n",
            "Epoch 9/40\n",
            "391/391 [==============================] - 5s 14ms/step - loss: 1.4251 - accuracy: 0.4942 - val_loss: 1.4970 - val_accuracy: 0.4614\n",
            "Epoch 10/40\n",
            "391/391 [==============================] - 6s 14ms/step - loss: 1.3886 - accuracy: 0.5103 - val_loss: 1.4346 - val_accuracy: 0.4795\n",
            "Epoch 11/40\n",
            "391/391 [==============================] - 5s 14ms/step - loss: 1.3532 - accuracy: 0.5194 - val_loss: 1.3293 - val_accuracy: 0.5325\n",
            "Epoch 12/40\n",
            "391/391 [==============================] - 5s 14ms/step - loss: 1.3207 - accuracy: 0.5334 - val_loss: 1.3775 - val_accuracy: 0.5092\n",
            "Epoch 13/40\n",
            "391/391 [==============================] - 5s 13ms/step - loss: 1.2886 - accuracy: 0.5444 - val_loss: 1.2943 - val_accuracy: 0.5311\n",
            "Epoch 14/40\n",
            "391/391 [==============================] - 5s 13ms/step - loss: 1.2608 - accuracy: 0.5549 - val_loss: 1.2666 - val_accuracy: 0.5479\n",
            "Epoch 15/40\n",
            "391/391 [==============================] - 5s 13ms/step - loss: 1.2308 - accuracy: 0.5654 - val_loss: 1.2576 - val_accuracy: 0.5537\n",
            "Epoch 16/40\n",
            "391/391 [==============================] - 5s 13ms/step - loss: 1.2064 - accuracy: 0.5747 - val_loss: 1.2436 - val_accuracy: 0.5537\n",
            "Epoch 17/40\n",
            "391/391 [==============================] - 5s 13ms/step - loss: 1.1801 - accuracy: 0.5863 - val_loss: 1.2345 - val_accuracy: 0.5590\n",
            "Epoch 18/40\n",
            "391/391 [==============================] - 6s 14ms/step - loss: 1.1541 - accuracy: 0.5948 - val_loss: 1.1723 - val_accuracy: 0.5806\n",
            "Epoch 19/40\n",
            "391/391 [==============================] - 6s 14ms/step - loss: 1.1301 - accuracy: 0.6044 - val_loss: 1.1401 - val_accuracy: 0.6003\n",
            "Epoch 20/40\n",
            "391/391 [==============================] - 6s 14ms/step - loss: 1.1109 - accuracy: 0.6108 - val_loss: 1.1452 - val_accuracy: 0.5947\n",
            "Epoch 21/40\n",
            "391/391 [==============================] - 5s 14ms/step - loss: 1.0865 - accuracy: 0.6201 - val_loss: 1.1131 - val_accuracy: 0.6066\n",
            "Epoch 22/40\n",
            "391/391 [==============================] - 5s 14ms/step - loss: 1.0720 - accuracy: 0.6253 - val_loss: 1.1434 - val_accuracy: 0.5991\n",
            "Epoch 23/40\n",
            "391/391 [==============================] - 5s 14ms/step - loss: 1.0510 - accuracy: 0.6324 - val_loss: 1.1311 - val_accuracy: 0.5947\n",
            "Epoch 24/40\n",
            "391/391 [==============================] - 6s 14ms/step - loss: 1.0324 - accuracy: 0.6397 - val_loss: 1.0776 - val_accuracy: 0.6208\n",
            "Epoch 25/40\n",
            "391/391 [==============================] - 5s 14ms/step - loss: 1.0162 - accuracy: 0.6461 - val_loss: 1.1415 - val_accuracy: 0.5936\n",
            "Epoch 26/40\n",
            "391/391 [==============================] - 5s 14ms/step - loss: 0.9988 - accuracy: 0.6511 - val_loss: 1.1283 - val_accuracy: 0.6138\n",
            "Epoch 27/40\n",
            "391/391 [==============================] - 6s 14ms/step - loss: 0.9824 - accuracy: 0.6574 - val_loss: 1.0398 - val_accuracy: 0.6354\n",
            "Epoch 28/40\n",
            "391/391 [==============================] - 5s 13ms/step - loss: 0.9699 - accuracy: 0.6630 - val_loss: 1.0577 - val_accuracy: 0.6295\n",
            "Epoch 29/40\n",
            "391/391 [==============================] - 6s 14ms/step - loss: 0.9553 - accuracy: 0.6673 - val_loss: 1.0249 - val_accuracy: 0.6417\n",
            "Epoch 30/40\n",
            "391/391 [==============================] - 5s 14ms/step - loss: 0.9372 - accuracy: 0.6744 - val_loss: 1.0349 - val_accuracy: 0.6406\n",
            "Epoch 31/40\n",
            "391/391 [==============================] - 5s 14ms/step - loss: 0.9269 - accuracy: 0.6778 - val_loss: 1.0195 - val_accuracy: 0.6413\n",
            "Epoch 32/40\n",
            "391/391 [==============================] - 5s 14ms/step - loss: 0.9109 - accuracy: 0.6839 - val_loss: 1.0323 - val_accuracy: 0.6371\n",
            "Epoch 33/40\n",
            "391/391 [==============================] - 5s 14ms/step - loss: 0.8985 - accuracy: 0.6892 - val_loss: 0.9912 - val_accuracy: 0.6557\n",
            "Epoch 34/40\n",
            "391/391 [==============================] - 6s 14ms/step - loss: 0.8871 - accuracy: 0.6904 - val_loss: 0.9994 - val_accuracy: 0.6560\n",
            "Epoch 35/40\n",
            "391/391 [==============================] - 6s 14ms/step - loss: 0.8718 - accuracy: 0.6978 - val_loss: 1.0365 - val_accuracy: 0.6430\n",
            "Epoch 36/40\n",
            "391/391 [==============================] - 5s 14ms/step - loss: 0.8640 - accuracy: 0.7002 - val_loss: 0.9820 - val_accuracy: 0.6662\n",
            "Epoch 37/40\n",
            "391/391 [==============================] - 6s 14ms/step - loss: 0.8504 - accuracy: 0.7048 - val_loss: 0.9708 - val_accuracy: 0.6679\n",
            "Epoch 38/40\n",
            "391/391 [==============================] - 5s 14ms/step - loss: 0.8396 - accuracy: 0.7102 - val_loss: 0.9405 - val_accuracy: 0.6762\n",
            "Epoch 39/40\n",
            "391/391 [==============================] - 5s 14ms/step - loss: 0.8252 - accuracy: 0.7154 - val_loss: 0.9624 - val_accuracy: 0.6702\n",
            "Epoch 40/40\n",
            "391/391 [==============================] - 6s 14ms/step - loss: 0.8137 - accuracy: 0.7186 - val_loss: 0.9527 - val_accuracy: 0.6714\n",
            "Test loss: 0.9527119398117065\n",
            "Test accuracy: 0.6714000105857849\n"
          ]
        },
        {
          "output_type": "display_data",
          "data": {
            "image/png": "[encoded data removed]",
            "text/plain": [
              "<Figure size 432x288 with 1 Axes>"
            ]
          },
          "metadata": {
            "needs_background": "light"
          }
        },
        {
          "output_type": "display_data",
          "data": {
            "image/png": "[encoded data removed]",
            "text/plain": [
              "<Figure size 432x288 with 1 Axes>"
            ]
          },
          "metadata": {
            "needs_background": "light"
          }
        }
      ]
    },
    {
      "cell_type": "markdown",
      "metadata": {
        "id": "jXJJaI38rQeV"
      },
      "source": [
        "# Data Augmentation\n",
        "Deep neural networks benefit from large amounts of training data. This can be expensive to collect. A cost effective alternative is **Data Augmentation** where we use simple techniques such as croping, rotating, fliping, ...  to generate new versions of existing training data points. \n",
        "\n",
        "\n",
        "<font color='red'>Task: Look at the different options for image data augmentation (https://keras.io/api/layers/preprocessing_layers/image_augmentation/). What augmentations make sense for our use case ? Experiment with them to see if you can increase the performance of the model </font>"
      ]
    },
    {
      "cell_type": "code",
      "metadata": {
        "colab": {
          "base_uri": "https://localhost:8080/",
          "height": 1000
        },
        "id": "zNq_oEQrrQeW",
        "outputId": "e4a30006-eb7a-4180-fc16-d9ce28b2e5b8"
      },
      "source": [
        "model = Sequential()\n",
        "...#add data augmentation into your model, add into your model\n",
        "model.add(layers.RandomFlip(mode=\"horizontal\"))\n",
        "model.add(layers.RandomZoom(height_factor=(-0.1, 0.1)))\n",
        "model.add(layers.RandomTranslation(height_factor=(-0.1, 0.1), width_factor=(-0.1, 0.1)))\n",
        "model.add(layers.RandomContrast(factor=0.1))\n",
        "\n",
        "model.add(Conv2D(32, kernel_size=(3, 3), padding=\"same\", activation='relu', input_shape=input_shape))\n",
        "model.add(MaxPooling2D(pool_size=(2, 2)))\n",
        "model.add(Conv2D(64, (3, 3), activation='relu', padding=\"same\"))\n",
        "model.add(MaxPooling2D(pool_size=(2, 2)))\n",
        "model.add(Conv2D(64, (3, 3), activation='relu', padding=\"same\"))\n",
        "model.add(MaxPooling2D(pool_size=(2, 2)))\n",
        "\n",
        "model.add(Flatten())\n",
        "model.add(Dense(64, activation='relu'))\n",
        "model.add(Dense(10, activation='softmax'))\n",
        "\n",
        "\n",
        "with tf.device('/gpu:0'):\n",
        "    model.compile(loss=keras.losses.categorical_crossentropy, optimizer=SGD(lr=0.01), metrics=['accuracy'])\n",
        "\n",
        "    history_da = model.fit(x_train, y_train,\n",
        "              batch_size=batch_size,\n",
        "              epochs=40,\n",
        "              verbose=1,\n",
        "              validation_data=(x_test, y_test))\n",
        "\n",
        "    score_da = model.evaluate(x_test, y_test, verbose=0)\n",
        "    print(score_da)\n",
        "    \n",
        "draw_curve(score_da, history_da)"
      ],
      "execution_count": 6,
      "outputs": [
        {
          "output_type": "stream",
          "name": "stderr",
          "text": [
            "/usr/local/lib/python3.7/dist-packages/keras/optimizer_v2/gradient_descent.py:102: UserWarning: The `lr` argument is deprecated, use `learning_rate` instead.\n",
            "  super(SGD, self).__init__(name, **kwargs)\n"
          ]
        },
        {
          "output_type": "stream",
          "name": "stdout",
          "text": [
            "Epoch 1/40\n",
            "391/391 [==============================] - 10s 22ms/step - loss: 2.2824 - accuracy: 0.1461 - val_loss: 2.2487 - val_accuracy: 0.1447\n",
            "Epoch 2/40\n",
            "391/391 [==============================] - 8s 21ms/step - loss: 2.1404 - accuracy: 0.2356 - val_loss: 2.0314 - val_accuracy: 0.2664\n",
            "Epoch 3/40\n",
            "391/391 [==============================] - 8s 21ms/step - loss: 1.9930 - accuracy: 0.2849 - val_loss: 1.9595 - val_accuracy: 0.2955\n",
            "Epoch 4/40\n",
            "391/391 [==============================] - 8s 21ms/step - loss: 1.9071 - accuracy: 0.3195 - val_loss: 1.7962 - val_accuracy: 0.3738\n",
            "Epoch 5/40\n",
            "391/391 [==============================] - 8s 21ms/step - loss: 1.8205 - accuracy: 0.3554 - val_loss: 1.7123 - val_accuracy: 0.3943\n",
            "Epoch 6/40\n",
            "391/391 [==============================] - 8s 21ms/step - loss: 1.7346 - accuracy: 0.3827 - val_loss: 1.6167 - val_accuracy: 0.4206\n",
            "Epoch 7/40\n",
            "391/391 [==============================] - 8s 21ms/step - loss: 1.6722 - accuracy: 0.4038 - val_loss: 1.6358 - val_accuracy: 0.4188\n",
            "Epoch 8/40\n",
            "391/391 [==============================] - 8s 21ms/step - loss: 1.6050 - accuracy: 0.4239 - val_loss: 1.5391 - val_accuracy: 0.4479\n",
            "Epoch 9/40\n",
            "391/391 [==============================] - 8s 21ms/step - loss: 1.5655 - accuracy: 0.4409 - val_loss: 1.4810 - val_accuracy: 0.4681\n",
            "Epoch 10/40\n",
            "391/391 [==============================] - 8s 21ms/step - loss: 1.5282 - accuracy: 0.4520 - val_loss: 1.4791 - val_accuracy: 0.4796\n",
            "Epoch 11/40\n",
            "391/391 [==============================] - 8s 21ms/step - loss: 1.5013 - accuracy: 0.4658 - val_loss: 1.3995 - val_accuracy: 0.5054\n",
            "Epoch 12/40\n",
            "391/391 [==============================] - 8s 20ms/step - loss: 1.4769 - accuracy: 0.4745 - val_loss: 1.4612 - val_accuracy: 0.4843\n",
            "Epoch 13/40\n",
            "391/391 [==============================] - 8s 21ms/step - loss: 1.4547 - accuracy: 0.4820 - val_loss: 1.3645 - val_accuracy: 0.5214\n",
            "Epoch 14/40\n",
            "391/391 [==============================] - 8s 21ms/step - loss: 1.4362 - accuracy: 0.4898 - val_loss: 1.3618 - val_accuracy: 0.5211\n",
            "Epoch 15/40\n",
            "391/391 [==============================] - 8s 21ms/step - loss: 1.4182 - accuracy: 0.4963 - val_loss: 1.3526 - val_accuracy: 0.5122\n",
            "Epoch 16/40\n",
            "391/391 [==============================] - 8s 21ms/step - loss: 1.3986 - accuracy: 0.5027 - val_loss: 1.3075 - val_accuracy: 0.5363\n",
            "Epoch 17/40\n",
            "391/391 [==============================] - 8s 20ms/step - loss: 1.3792 - accuracy: 0.5112 - val_loss: 1.2789 - val_accuracy: 0.5463\n",
            "Epoch 18/40\n",
            "391/391 [==============================] - 8s 20ms/step - loss: 1.3654 - accuracy: 0.5169 - val_loss: 1.3093 - val_accuracy: 0.5366\n",
            "Epoch 19/40\n",
            "391/391 [==============================] - 8s 20ms/step - loss: 1.3454 - accuracy: 0.5216 - val_loss: 1.3558 - val_accuracy: 0.5261\n",
            "Epoch 20/40\n",
            "391/391 [==============================] - 8s 21ms/step - loss: 1.3350 - accuracy: 0.5283 - val_loss: 1.2520 - val_accuracy: 0.5574\n",
            "Epoch 21/40\n",
            "391/391 [==============================] - 8s 20ms/step - loss: 1.3186 - accuracy: 0.5342 - val_loss: 1.3388 - val_accuracy: 0.5267\n",
            "Epoch 22/40\n",
            "391/391 [==============================] - 8s 20ms/step - loss: 1.3052 - accuracy: 0.5383 - val_loss: 1.2742 - val_accuracy: 0.5462\n",
            "Epoch 23/40\n",
            "391/391 [==============================] - 8s 20ms/step - loss: 1.2947 - accuracy: 0.5423 - val_loss: 1.2113 - val_accuracy: 0.5761\n",
            "Epoch 24/40\n",
            "391/391 [==============================] - 8s 20ms/step - loss: 1.2760 - accuracy: 0.5481 - val_loss: 1.1977 - val_accuracy: 0.5698\n",
            "Epoch 25/40\n",
            "391/391 [==============================] - 8s 20ms/step - loss: 1.2631 - accuracy: 0.5536 - val_loss: 1.1985 - val_accuracy: 0.5800\n",
            "Epoch 26/40\n",
            "391/391 [==============================] - 8s 20ms/step - loss: 1.2477 - accuracy: 0.5590 - val_loss: 1.2384 - val_accuracy: 0.5588\n",
            "Epoch 27/40\n",
            "391/391 [==============================] - 8s 21ms/step - loss: 1.2425 - accuracy: 0.5635 - val_loss: 1.2056 - val_accuracy: 0.5729\n",
            "Epoch 28/40\n",
            "391/391 [==============================] - 8s 21ms/step - loss: 1.2322 - accuracy: 0.5645 - val_loss: 1.2300 - val_accuracy: 0.5690\n",
            "Epoch 29/40\n",
            "391/391 [==============================] - 8s 20ms/step - loss: 1.2138 - accuracy: 0.5719 - val_loss: 1.1525 - val_accuracy: 0.5883\n",
            "Epoch 30/40\n",
            "391/391 [==============================] - 8s 20ms/step - loss: 1.2072 - accuracy: 0.5742 - val_loss: 1.1869 - val_accuracy: 0.5747\n",
            "Epoch 31/40\n",
            "391/391 [==============================] - 8s 20ms/step - loss: 1.1942 - accuracy: 0.5832 - val_loss: 1.2529 - val_accuracy: 0.5642\n",
            "Epoch 32/40\n",
            "391/391 [==============================] - 8s 20ms/step - loss: 1.1860 - accuracy: 0.5846 - val_loss: 1.1699 - val_accuracy: 0.5795\n",
            "Epoch 33/40\n",
            "391/391 [==============================] - 8s 21ms/step - loss: 1.1634 - accuracy: 0.5895 - val_loss: 1.0948 - val_accuracy: 0.6079\n",
            "Epoch 34/40\n",
            "391/391 [==============================] - 8s 20ms/step - loss: 1.1638 - accuracy: 0.5922 - val_loss: 1.0562 - val_accuracy: 0.6277\n",
            "Epoch 35/40\n",
            "391/391 [==============================] - 8s 21ms/step - loss: 1.1531 - accuracy: 0.5949 - val_loss: 1.1086 - val_accuracy: 0.6114\n",
            "Epoch 36/40\n",
            "391/391 [==============================] - 8s 20ms/step - loss: 1.1362 - accuracy: 0.6033 - val_loss: 1.0737 - val_accuracy: 0.6169\n",
            "Epoch 37/40\n",
            "391/391 [==============================] - 8s 21ms/step - loss: 1.1298 - accuracy: 0.6043 - val_loss: 1.0975 - val_accuracy: 0.6121\n",
            "Epoch 38/40\n",
            "391/391 [==============================] - 8s 20ms/step - loss: 1.1219 - accuracy: 0.6063 - val_loss: 1.2694 - val_accuracy: 0.5585\n",
            "Epoch 39/40\n",
            "391/391 [==============================] - 8s 20ms/step - loss: 1.1128 - accuracy: 0.6100 - val_loss: 1.0402 - val_accuracy: 0.6342\n",
            "Epoch 40/40\n",
            "391/391 [==============================] - 8s 20ms/step - loss: 1.1034 - accuracy: 0.6129 - val_loss: 1.0379 - val_accuracy: 0.6327\n",
            "[1.0378986597061157, 0.6327000260353088]\n",
            "Test loss: 1.0378986597061157\n",
            "Test accuracy: 0.6327000260353088\n"
          ]
        },
        {
          "output_type": "display_data",
          "data": {
            "image/png": "[encoded data removed]",
            "text/plain": [
              "<Figure size 432x288 with 1 Axes>"
            ]
          },
          "metadata": {
            "needs_background": "light"
          }
        },
        {
          "output_type": "display_data",
          "data": {
            "image/png": "[encoded data removed]",
            "text/plain": [
              "<Figure size 432x288 with 1 Axes>"
            ]
          },
          "metadata": {
            "needs_background": "light"
          }
        }
      ]
    },
    {
      "cell_type": "markdown",
      "metadata": {
        "id": "1UT-pL6TrQeW"
      },
      "source": [
        "<font color='red'>Task: Observe the training curves. Do you see a difference in the relationship between train and validation loss ? What could this indicate ? Was it a good idea to stop training after 40 epochs ? </font>"
      ]
    },
    {
      "cell_type": "markdown",
      "metadata": {
        "id": "iH9CMcYWrQeW"
      },
      "source": [
        "# Batch Normalization\n",
        "Batch normalization makes sure that the output of a layer has a mean of around zero and a standard deviation of about one. This often makes it easier for the model to train. It is unclear why exactly this is the case. \n",
        "<img style=\"float:left, width=100\" src=\"images/BN.png\"/>"
      ]
    },
    {
      "cell_type": "markdown",
      "metadata": {
        "id": "rJfaPqV5rQeW"
      },
      "source": [
        "<font color='red'>Task: Add batch normalize layers to your model, after each convolutional layer.</font>\n",
        "\n"
      ]
    },
    {
      "cell_type": "code",
      "metadata": {
        "colab": {
          "base_uri": "https://localhost:8080/",
          "height": 1000
        },
        "id": "PP9uQX6MrQeX",
        "outputId": "7edc1082-f486-4cab-bffb-25edc2ae8e4b"
      },
      "source": [
        "model = Sequential()\n",
        "...#add batch normlaization layer to your model\n",
        "model.add(Conv2D(32, kernel_size=(3, 3), padding=\"same\", activation='relu', input_shape=input_shape))\n",
        "model.add(BatchNormalization())\n",
        "model.add(MaxPooling2D(pool_size=(2, 2)))\n",
        "model.add(Conv2D(64, (3, 3), activation='relu', padding=\"same\"))\n",
        "model.add(BatchNormalization())\n",
        "model.add(MaxPooling2D(pool_size=(2, 2)))\n",
        "model.add(Conv2D(64, (3, 3), activation='relu', padding=\"same\"))\n",
        "model.add(BatchNormalization())\n",
        "model.add(MaxPooling2D(pool_size=(2, 2)))\n",
        "\n",
        "model.add(Flatten())\n",
        "model.add(Dense(64, activation='relu'))\n",
        "model.add(BatchNormalization())\n",
        "model.add(Dense(10, activation='softmax'))\n",
        "\n",
        "...#train with gpu\n",
        "with tf.device('/gpu:0'):\n",
        "    model.compile(loss=keras.losses.categorical_crossentropy, optimizer=SGD(lr=0.01), metrics=['accuracy'])\n",
        "\n",
        "    history_bn = model.fit(x_train, y_train,\n",
        "              batch_size=batch_size,\n",
        "              epochs=40,\n",
        "              verbose=1,\n",
        "              validation_data=(x_test, y_test))\n",
        "\n",
        "    score_bn = model.evaluate(x_test, y_test, verbose=0)\n",
        "    print(score_bn)\n",
        "    \n",
        "draw_curve(score_bn, history_bn)"
      ],
      "execution_count": 7,
      "outputs": [
        {
          "output_type": "stream",
          "name": "stderr",
          "text": [
            "/usr/local/lib/python3.7/dist-packages/keras/optimizer_v2/gradient_descent.py:102: UserWarning: The `lr` argument is deprecated, use `learning_rate` instead.\n",
            "  super(SGD, self).__init__(name, **kwargs)\n"
          ]
        },
        {
          "output_type": "stream",
          "name": "stdout",
          "text": [
            "Epoch 1/40\n",
            "391/391 [==============================] - 8s 17ms/step - loss: 1.5959 - accuracy: 0.4454 - val_loss: 2.0381 - val_accuracy: 0.2602\n",
            "Epoch 2/40\n",
            "391/391 [==============================] - 6s 16ms/step - loss: 1.2413 - accuracy: 0.5657 - val_loss: 1.3775 - val_accuracy: 0.5208\n",
            "Epoch 3/40\n",
            "391/391 [==============================] - 6s 16ms/step - loss: 1.1093 - accuracy: 0.6144 - val_loss: 1.1695 - val_accuracy: 0.5865\n",
            "Epoch 4/40\n",
            "391/391 [==============================] - 6s 16ms/step - loss: 1.0140 - accuracy: 0.6443 - val_loss: 1.2482 - val_accuracy: 0.5633\n",
            "Epoch 5/40\n",
            "391/391 [==============================] - 6s 16ms/step - loss: 0.9426 - accuracy: 0.6718 - val_loss: 1.1403 - val_accuracy: 0.6003\n",
            "Epoch 6/40\n",
            "391/391 [==============================] - 6s 16ms/step - loss: 0.8826 - accuracy: 0.6957 - val_loss: 1.9824 - val_accuracy: 0.4084\n",
            "Epoch 7/40\n",
            "391/391 [==============================] - 6s 16ms/step - loss: 0.8333 - accuracy: 0.7122 - val_loss: 1.3685 - val_accuracy: 0.5618\n",
            "Epoch 8/40\n",
            "391/391 [==============================] - 6s 16ms/step - loss: 0.7893 - accuracy: 0.7280 - val_loss: 1.3114 - val_accuracy: 0.5669\n",
            "Epoch 9/40\n",
            "391/391 [==============================] - 6s 16ms/step - loss: 0.7528 - accuracy: 0.7409 - val_loss: 1.0353 - val_accuracy: 0.6481\n",
            "Epoch 10/40\n",
            "391/391 [==============================] - 6s 16ms/step - loss: 0.7172 - accuracy: 0.7537 - val_loss: 0.9350 - val_accuracy: 0.6773\n",
            "Epoch 11/40\n",
            "391/391 [==============================] - 6s 16ms/step - loss: 0.6881 - accuracy: 0.7641 - val_loss: 1.1046 - val_accuracy: 0.6326\n",
            "Epoch 12/40\n",
            "391/391 [==============================] - 7s 17ms/step - loss: 0.6558 - accuracy: 0.7754 - val_loss: 1.0094 - val_accuracy: 0.6590\n",
            "Epoch 13/40\n",
            "391/391 [==============================] - 6s 16ms/step - loss: 0.6302 - accuracy: 0.7853 - val_loss: 1.5391 - val_accuracy: 0.5244\n",
            "Epoch 14/40\n",
            "391/391 [==============================] - 6s 17ms/step - loss: 0.6033 - accuracy: 0.7954 - val_loss: 0.9757 - val_accuracy: 0.6720\n",
            "Epoch 15/40\n",
            "391/391 [==============================] - 7s 17ms/step - loss: 0.5770 - accuracy: 0.8027 - val_loss: 1.0647 - val_accuracy: 0.6490\n",
            "Epoch 16/40\n",
            "391/391 [==============================] - 7s 17ms/step - loss: 0.5528 - accuracy: 0.8117 - val_loss: 0.9583 - val_accuracy: 0.6835\n",
            "Epoch 17/40\n",
            "391/391 [==============================] - 6s 16ms/step - loss: 0.5312 - accuracy: 0.8195 - val_loss: 0.9886 - val_accuracy: 0.6720\n",
            "Epoch 18/40\n",
            "391/391 [==============================] - 6s 16ms/step - loss: 0.5081 - accuracy: 0.8277 - val_loss: 1.1149 - val_accuracy: 0.6434\n",
            "Epoch 19/40\n",
            "391/391 [==============================] - 6s 16ms/step - loss: 0.4860 - accuracy: 0.8359 - val_loss: 0.9359 - val_accuracy: 0.6859\n",
            "Epoch 20/40\n",
            "391/391 [==============================] - 6s 17ms/step - loss: 0.4653 - accuracy: 0.8438 - val_loss: 1.0958 - val_accuracy: 0.6587\n",
            "Epoch 21/40\n",
            "391/391 [==============================] - 6s 16ms/step - loss: 0.4444 - accuracy: 0.8509 - val_loss: 1.0010 - val_accuracy: 0.6842\n",
            "Epoch 22/40\n",
            "391/391 [==============================] - 6s 16ms/step - loss: 0.4240 - accuracy: 0.8583 - val_loss: 0.9650 - val_accuracy: 0.6913\n",
            "Epoch 23/40\n",
            "391/391 [==============================] - 6s 16ms/step - loss: 0.4048 - accuracy: 0.8662 - val_loss: 1.0626 - val_accuracy: 0.6660\n",
            "Epoch 24/40\n",
            "391/391 [==============================] - 6s 17ms/step - loss: 0.3881 - accuracy: 0.8717 - val_loss: 1.0871 - val_accuracy: 0.6617\n",
            "Epoch 25/40\n",
            "391/391 [==============================] - 7s 17ms/step - loss: 0.3713 - accuracy: 0.8780 - val_loss: 1.0553 - val_accuracy: 0.6712\n",
            "Epoch 26/40\n",
            "391/391 [==============================] - 6s 16ms/step - loss: 0.3513 - accuracy: 0.8854 - val_loss: 1.0150 - val_accuracy: 0.6855\n",
            "Epoch 27/40\n",
            "391/391 [==============================] - 6s 16ms/step - loss: 0.3377 - accuracy: 0.8904 - val_loss: 1.1271 - val_accuracy: 0.6683\n",
            "Epoch 28/40\n",
            "391/391 [==============================] - 6s 16ms/step - loss: 0.3175 - accuracy: 0.8964 - val_loss: 1.0953 - val_accuracy: 0.6801\n",
            "Epoch 29/40\n",
            "391/391 [==============================] - 7s 17ms/step - loss: 0.3028 - accuracy: 0.9034 - val_loss: 1.0444 - val_accuracy: 0.6915\n",
            "Epoch 30/40\n",
            "391/391 [==============================] - 6s 16ms/step - loss: 0.2875 - accuracy: 0.9090 - val_loss: 1.2479 - val_accuracy: 0.6421\n",
            "Epoch 31/40\n",
            "391/391 [==============================] - 6s 16ms/step - loss: 0.2708 - accuracy: 0.9145 - val_loss: 1.0185 - val_accuracy: 0.7041\n",
            "Epoch 32/40\n",
            "391/391 [==============================] - 7s 17ms/step - loss: 0.2581 - accuracy: 0.9196 - val_loss: 1.1082 - val_accuracy: 0.6847\n",
            "Epoch 33/40\n",
            "391/391 [==============================] - 6s 16ms/step - loss: 0.2425 - accuracy: 0.9253 - val_loss: 1.2286 - val_accuracy: 0.6620\n",
            "Epoch 34/40\n",
            "391/391 [==============================] - 6s 16ms/step - loss: 0.2310 - accuracy: 0.9282 - val_loss: 1.0695 - val_accuracy: 0.6990\n",
            "Epoch 35/40\n",
            "391/391 [==============================] - 7s 17ms/step - loss: 0.2208 - accuracy: 0.9325 - val_loss: 1.1743 - val_accuracy: 0.6811\n",
            "Epoch 36/40\n",
            "391/391 [==============================] - 6s 16ms/step - loss: 0.2048 - accuracy: 0.9389 - val_loss: 1.1433 - val_accuracy: 0.6899\n",
            "Epoch 37/40\n",
            "391/391 [==============================] - 6s 16ms/step - loss: 0.1957 - accuracy: 0.9429 - val_loss: 1.2390 - val_accuracy: 0.6750\n",
            "Epoch 38/40\n",
            "391/391 [==============================] - 6s 16ms/step - loss: 0.1818 - accuracy: 0.9478 - val_loss: 1.2995 - val_accuracy: 0.6615\n",
            "Epoch 39/40\n",
            "391/391 [==============================] - 7s 17ms/step - loss: 0.1736 - accuracy: 0.9500 - val_loss: 1.4741 - val_accuracy: 0.6417\n",
            "Epoch 40/40\n",
            "391/391 [==============================] - 6s 16ms/step - loss: 0.1650 - accuracy: 0.9538 - val_loss: 1.1925 - val_accuracy: 0.6917\n",
            "[1.1925392150878906, 0.6916999816894531]\n",
            "Test loss: 1.1925392150878906\n",
            "Test accuracy: 0.6916999816894531\n"
          ]
        },
        {
          "output_type": "display_data",
          "data": {
            "image/png": "[encoded data removed]",
            "text/plain": [
              "<Figure size 432x288 with 1 Axes>"
            ]
          },
          "metadata": {
            "needs_background": "light"
          }
        },
        {
          "output_type": "display_data",
          "data": {
            "image/png": "[encoded data removed]",
            "text/plain": [
              "<Figure size 432x288 with 1 Axes>"
            ]
          },
          "metadata": {
            "needs_background": "light"
          }
        }
      ]
    },
    {
      "cell_type": "markdown",
      "metadata": {
        "id": "XodYBjR8rQeX"
      },
      "source": [
        "<font color='red'>Task: Investigate the training curves. What would you suggest as a next step ?\n",
        "</font>\n",
        "---\n",
        "\n"
      ]
    },
    {
      "cell_type": "markdown",
      "metadata": {
        "id": "XzMYf7ITrQeX"
      },
      "source": [
        "# Feature Map Visualization\n",
        "Visualizing the feature maps of a trained model helps us to better interpret the results and understand our model. \n",
        "There are several ways to visualize the feature maps. \n",
        "One of them is *Class Activation Map*, it visualizes the region where the model focuses on to make a prediction for a certain input.\n",
        "\n",
        "<img style=\"float:left, width=100\" src=\"images/CAM.png\"/>\n",
        "\n",
        "<br/>\n",
        "\n",
        "Source: https://arxiv.org/abs/1512.04150\n",
        "\n",
        "Extension: https://github.com/utkuozbulak/pytorch-cnn-visualizations\n",
        "\n",
        "Reference: https://keras.io/examples/vision/grad_cam/, \n",
        "\n",
        "\n",
        "<font color='red'>Task: Visualize the feature maps of trained model using provided functions. </font> "
      ]
    },
    {
      "cell_type": "code",
      "metadata": {
        "id": "XzCqy_vjrQeX"
      },
      "source": [
        "from IPython.display import Image, display\n",
        "import matplotlib.cm as cm\n",
        "import numpy as np\n",
        "\n",
        "def get_img_array(img_path, size):\n",
        "    img = keras.preprocessing.image.load_img(img_path, target_size=size)\n",
        "    array = keras.preprocessing.image.img_to_array(img)\n",
        "    array = np.expand_dims(array, axis=0)\n",
        "    return array\n",
        "\n",
        "def make_gradcam_heatmap(img_array, model, last_conv_layer_name, pred_index=None):\n",
        "    # First, we create a model that maps the input image to the activations\n",
        "    # of the last conv layer as well as the output predictions\n",
        "    grad_model = tf.keras.models.Model(\n",
        "        [model.inputs], [model.get_layer(last_conv_layer_name).output, model.output]\n",
        "    )\n",
        "\n",
        "    # Then, we compute the gradient of the top predicted class for our input image\n",
        "    # with respect to the activations of the last conv layer\n",
        "    with tf.GradientTape() as tape:\n",
        "        last_conv_layer_output, preds = grad_model(img_array)\n",
        "        if pred_index is None:\n",
        "            pred_index = tf.argmax(preds[0])\n",
        "        class_channel = preds[:, pred_index]\n",
        "\n",
        "    # This is the gradient of the output neuron (top predicted or chosen)\n",
        "    # with regard to the output feature map of the last conv layer\n",
        "    grads = tape.gradient(class_channel, last_conv_layer_output)\n",
        "\n",
        "    # This is a vector where each entry is the mean intensity of the gradient\n",
        "    # over a specific feature map channel\n",
        "    pooled_grads = tf.reduce_mean(grads, axis=(0, 1, 2))\n",
        "\n",
        "    # We multiply each channel in the feature map array\n",
        "    # by \"how important this channel is\" with regard to the top predicted class\n",
        "    # then sum all the channels to obtain the heatmap class activation\n",
        "    last_conv_layer_output = last_conv_layer_output[0]\n",
        "    heatmap = last_conv_layer_output @ pooled_grads[..., tf.newaxis]\n",
        "    heatmap = tf.squeeze(heatmap)\n",
        "\n",
        "    # For visualization purpose, we will also normalize the heatmap between 0 & 1\n",
        "    heatmap = tf.maximum(heatmap, 0) / tf.math.reduce_max(heatmap)\n",
        "    return heatmap.numpy()\n",
        "\n",
        "def save_and_display_gradcam(img, heatmap, alpha=0.1):\n",
        "    img = keras.preprocessing.image.img_to_array(img)\n",
        "\n",
        "    # Rescale heatmap to a range 0-255\n",
        "    heatmap = np.uint8(255 * heatmap)\n",
        "\n",
        "    # Use jet colormap to colorize heatmap\n",
        "    jet = cm.get_cmap(\"jet\")\n",
        "\n",
        "    # Use RGB values of the colormap\n",
        "    jet_colors = jet(np.arange(256))[:, :3]\n",
        "    jet_heatmap = jet_colors[heatmap]\n",
        "\n",
        "    # Create an image with RGB colorized heatmap\n",
        "    jet_heatmap = keras.preprocessing.image.array_to_img(jet_heatmap)\n",
        "    jet_heatmap = jet_heatmap.resize((img.shape[1], img.shape[0]))\n",
        "    jet_heatmap = keras.preprocessing.image.img_to_array(jet_heatmap)\n",
        "\n",
        "    # Superimpose the heatmap on original image\n",
        "    superimposed_img = jet_heatmap * alpha + img\n",
        "    superimposed_img = keras.preprocessing.image.array_to_img(superimposed_img)\n",
        "\n",
        "    return superimposed_img"
      ],
      "execution_count": 8,
      "outputs": []
    },
    {
      "cell_type": "markdown",
      "metadata": {
        "id": "9t-Dx69UrQeY"
      },
      "source": [
        "Prepare the data for heatmap visualization."
      ]
    },
    {
      "cell_type": "code",
      "metadata": {
        "colab": {
          "base_uri": "https://localhost:8080/",
          "height": 302
        },
        "id": "FZpX8jl0rQeY",
        "outputId": "a41e6b96-a3e8-4c42-ebea-060d92993358"
      },
      "source": [
        "# Set up ONE input image from the dataset. The input image must have the same shape as the model input (1, 32, 32, 3)\n",
        "idx = 9876\n",
        "img = np.expand_dims(x_train[idx], axis=0)\n",
        "\n",
        "#Run prediction to see if the model managed to identify the object.\n",
        "preds = model.predict(img)[0]\n",
        "print(\"Image Category:\", np.argmax(y_train[idx]))\n",
        "print(\"Predicted Result:\", np.argmax(preds))\n",
        "\n",
        "plt.imshow((img[0] * 255).astype(np.uint8))\n",
        "plt.show()"
      ],
      "execution_count": 9,
      "outputs": [
        {
          "output_type": "stream",
          "name": "stdout",
          "text": [
            "Image Category: 2\n",
            "Predicted Result: 4\n"
          ]
        },
        {
          "output_type": "display_data",
          "data": {
            "image/png": "[encoded data removed]",
            "text/plain": [
              "<Figure size 432x288 with 1 Axes>"
            ]
          },
          "metadata": {
            "needs_background": "light"
          }
        }
      ]
    },
    {
      "cell_type": "markdown",
      "metadata": {
        "id": "6PCH6FFFrQeY"
      },
      "source": [
        "<font color='red'>Task: Try different layer of the model and see its visualization.</font> "
      ]
    },
    {
      "cell_type": "code",
      "metadata": {
        "colab": {
          "base_uri": "https://localhost:8080/"
        },
        "id": "XNQgGvNGrQeY",
        "outputId": "ea49a4f8-bb0c-41ae-fd6f-434a2238ce65"
      },
      "source": [
        "model.summary()"
      ],
      "execution_count": 10,
      "outputs": [
        {
          "output_type": "stream",
          "name": "stdout",
          "text": [
            "Model: \"sequential_4\"\n",
            "_________________________________________________________________\n",
            " Layer (type)                Output Shape              Param #   \n",
            "=================================================================\n",
            " conv2d_12 (Conv2D)          (None, 32, 32, 32)        896       \n",
            "                                                                 \n",
            " batch_normalization (BatchN  (None, 32, 32, 32)       128       \n",
            " ormalization)                                                   \n",
            "                                                                 \n",
            " max_pooling2d_12 (MaxPoolin  (None, 16, 16, 32)       0         \n",
            " g2D)                                                            \n",
            "                                                                 \n",
            " conv2d_13 (Conv2D)          (None, 16, 16, 64)        18496     \n",
            "                                                                 \n",
            " batch_normalization_1 (Batc  (None, 16, 16, 64)       256       \n",
            " hNormalization)                                                 \n",
            "                                                                 \n",
            " max_pooling2d_13 (MaxPoolin  (None, 8, 8, 64)         0         \n",
            " g2D)                                                            \n",
            "                                                                 \n",
            " conv2d_14 (Conv2D)          (None, 8, 8, 64)          36928     \n",
            "                                                                 \n",
            " batch_normalization_2 (Batc  (None, 8, 8, 64)         256       \n",
            " hNormalization)                                                 \n",
            "                                                                 \n",
            " max_pooling2d_14 (MaxPoolin  (None, 4, 4, 64)         0         \n",
            " g2D)                                                            \n",
            "                                                                 \n",
            " flatten_4 (Flatten)         (None, 1024)              0         \n",
            "                                                                 \n",
            " dense_8 (Dense)             (None, 64)                65600     \n",
            "                                                                 \n",
            " batch_normalization_3 (Batc  (None, 64)               256       \n",
            " hNormalization)                                                 \n",
            "                                                                 \n",
            " dense_9 (Dense)             (None, 10)                650       \n",
            "                                                                 \n",
            "=================================================================\n",
            "Total params: 123,466\n",
            "Trainable params: 123,018\n",
            "Non-trainable params: 448\n",
            "_________________________________________________________________\n"
          ]
        }
      ]
    },
    {
      "cell_type": "code",
      "metadata": {
        "colab": {
          "base_uri": "https://localhost:8080/",
          "height": 252
        },
        "id": "HSke0iHPrQeY",
        "outputId": "cf233856-4e4b-4f6b-9284-f464d80ef3e2"
      },
      "source": [
        "...#Pick a convolution layer to generate the heatmap.\n",
        "conv_layer_name = \"batch_normalization_2\"\n",
        "\n",
        "...#Generate the activation heatmap using the functions provided in the previous cells.\n",
        "heatmap = make_gradcam_heatmap(img, model, conv_layer_name)\n",
        "\n",
        "# Display heatmap\n",
        "fig = plt.figure(figsize=(8, 4))\n",
        "fig.add_subplot(1, 2, 1)\n",
        "plt.imshow(heatmap)\n",
        "fig.add_subplot(1, 2, 2)\n",
        "\n",
        "...#Generate the superimposed visualization using the provided functions.\n",
        "heat_img = save_and_display_gradcam(img[0]*255, heatmap, alpha=0.9)\n",
        "plt.imshow(heat_img)\n",
        "plt.show()"
      ],
      "execution_count": 11,
      "outputs": [
        {
          "output_type": "display_data",
          "data": {
            "image/png": "[encoded data removed]",
            "text/plain": [
              "<Figure size 576x288 with 2 Axes>"
            ]
          },
          "metadata": {
            "needs_background": "light"
          }
        }
      ]
    },
    {
      "cell_type": "markdown",
      "metadata": {
        "id": "CGS3DNClrQeY"
      },
      "source": [
        "The heatmap generated by Grad-CAM shows the salient region of an image. \n",
        "The colour red indicates that the model considers this region is crucial to classify the image.\n",
        "The colour blue indicates that these region are less important to the task."
      ]
    },
    {
      "cell_type": "markdown",
      "metadata": {
        "id": "s-pxJXFYrQeY"
      },
      "source": [
        "# Transfer Learning\n",
        "Training a model from scratch requires a large amount of training data and compute power. A common technique to avoid this is to use transfer learning. Here we finteune a pretrained model for a new task. We simply download a trained model and change some of the layer to fit our task. Even though the intital model was trained for a different task, the features it has learned (edges, color transitions) might also be useful for other tasks.\n",
        "\n",
        "We will use a model that was pretrained on the CIFAR100 dataset. This is similar to CIFAR10 but contains 100 classes instead of 10.\n",
        "\n",
        "<img style=\"float:left, width=450\" src=\"images/TL.jpg\"/>\n",
        "\n",
        "\n",
        "Reference: https://github.com/geifmany/cifar-vgg"
      ]
    },
    {
      "cell_type": "code",
      "metadata": {
        "colab": {
          "base_uri": "https://localhost:8080/"
        },
        "id": "TfEC99Q7rQeZ",
        "outputId": "1564cc91-893f-4bdd-ff17-bc947a4f721b"
      },
      "source": [
        "from vgg16 import cifar100vgg # Make sure to upload the vgg16.py file to colab \n",
        "\n",
        "model_pre = cifar100vgg('cifar100vgg.h5').model # Make sure to upload the cifar100vgg.h5 file to colab \n",
        "\n",
        "model_pre.summary()"
      ],
      "execution_count": 12,
      "outputs": [
        {
          "output_type": "stream",
          "name": "stdout",
          "text": [
            "Model: \"sequential_5\"\n",
            "_________________________________________________________________\n",
            " Layer (type)                Output Shape              Param #   \n",
            "=================================================================\n",
            " conv2d_15 (Conv2D)          (None, 32, 32, 64)        1792      \n",
            "                                                                 \n",
            " activation (Activation)     (None, 32, 32, 64)        0         \n",
            "                                                                 \n",
            " batch_normalization_4 (Batc  (None, 32, 32, 64)       256       \n",
            " hNormalization)                                                 \n",
            "                                                                 \n",
            " dropout (Dropout)           (None, 32, 32, 64)        0         \n",
            "                                                                 \n",
            " conv2d_16 (Conv2D)          (None, 32, 32, 64)        36928     \n",
            "                                                                 \n",
            " activation_1 (Activation)   (None, 32, 32, 64)        0         \n",
            "                                                                 \n",
            " batch_normalization_5 (Batc  (None, 32, 32, 64)       256       \n",
            " hNormalization)                                                 \n",
            "                                                                 \n",
            " max_pooling2d_15 (MaxPoolin  (None, 16, 16, 64)       0         \n",
            " g2D)                                                            \n",
            "                                                                 \n",
            " conv2d_17 (Conv2D)          (None, 16, 16, 128)       73856     \n",
            "                                                                 \n",
            " activation_2 (Activation)   (None, 16, 16, 128)       0         \n",
            "                                                                 \n",
            " batch_normalization_6 (Batc  (None, 16, 16, 128)      512       \n",
            " hNormalization)                                                 \n",
            "                                                                 \n",
            " dropout_1 (Dropout)         (None, 16, 16, 128)       0         \n",
            "                                                                 \n",
            " conv2d_18 (Conv2D)          (None, 16, 16, 128)       147584    \n",
            "                                                                 \n",
            " activation_3 (Activation)   (None, 16, 16, 128)       0         \n",
            "                                                                 \n",
            " batch_normalization_7 (Batc  (None, 16, 16, 128)      512       \n",
            " hNormalization)                                                 \n",
            "                                                                 \n",
            " max_pooling2d_16 (MaxPoolin  (None, 8, 8, 128)        0         \n",
            " g2D)                                                            \n",
            "                                                                 \n",
            " conv2d_19 (Conv2D)          (None, 8, 8, 256)         295168    \n",
            "                                                                 \n",
            " activation_4 (Activation)   (None, 8, 8, 256)         0         \n",
            "                                                                 \n",
            " batch_normalization_8 (Batc  (None, 8, 8, 256)        1024      \n",
            " hNormalization)                                                 \n",
            "                                                                 \n",
            " dropout_2 (Dropout)         (None, 8, 8, 256)         0         \n",
            "                                                                 \n",
            " conv2d_20 (Conv2D)          (None, 8, 8, 256)         590080    \n",
            "                                                                 \n",
            " activation_5 (Activation)   (None, 8, 8, 256)         0         \n",
            "                                                                 \n",
            " batch_normalization_9 (Batc  (None, 8, 8, 256)        1024      \n",
            " hNormalization)                                                 \n",
            "                                                                 \n",
            " dropout_3 (Dropout)         (None, 8, 8, 256)         0         \n",
            "                                                                 \n",
            " conv2d_21 (Conv2D)          (None, 8, 8, 256)         590080    \n",
            "                                                                 \n",
            " activation_6 (Activation)   (None, 8, 8, 256)         0         \n",
            "                                                                 \n",
            " batch_normalization_10 (Bat  (None, 8, 8, 256)        1024      \n",
            " chNormalization)                                                \n",
            "                                                                 \n",
            " max_pooling2d_17 (MaxPoolin  (None, 4, 4, 256)        0         \n",
            " g2D)                                                            \n",
            "                                                                 \n",
            " conv2d_22 (Conv2D)          (None, 4, 4, 512)         1180160   \n",
            "                                                                 \n",
            " activation_7 (Activation)   (None, 4, 4, 512)         0         \n",
            "                                                                 \n",
            " batch_normalization_11 (Bat  (None, 4, 4, 512)        2048      \n",
            " chNormalization)                                                \n",
            "                                                                 \n",
            " dropout_4 (Dropout)         (None, 4, 4, 512)         0         \n",
            "                                                                 \n",
            " conv2d_23 (Conv2D)          (None, 4, 4, 512)         2359808   \n",
            "                                                                 \n",
            " activation_8 (Activation)   (None, 4, 4, 512)         0         \n",
            "                                                                 \n",
            " batch_normalization_12 (Bat  (None, 4, 4, 512)        2048      \n",
            " chNormalization)                                                \n",
            "                                                                 \n",
            " dropout_5 (Dropout)         (None, 4, 4, 512)         0         \n",
            "                                                                 \n",
            " conv2d_24 (Conv2D)          (None, 4, 4, 512)         2359808   \n",
            "                                                                 \n",
            " activation_9 (Activation)   (None, 4, 4, 512)         0         \n",
            "                                                                 \n",
            " batch_normalization_13 (Bat  (None, 4, 4, 512)        2048      \n",
            " chNormalization)                                                \n",
            "                                                                 \n",
            " max_pooling2d_18 (MaxPoolin  (None, 2, 2, 512)        0         \n",
            " g2D)                                                            \n",
            "                                                                 \n",
            " conv2d_25 (Conv2D)          (None, 2, 2, 512)         2359808   \n",
            "                                                                 \n",
            " activation_10 (Activation)  (None, 2, 2, 512)         0         \n",
            "                                                                 \n",
            " batch_normalization_14 (Bat  (None, 2, 2, 512)        2048      \n",
            " chNormalization)                                                \n",
            "                                                                 \n",
            " dropout_6 (Dropout)         (None, 2, 2, 512)         0         \n",
            "                                                                 \n",
            " conv2d_26 (Conv2D)          (None, 2, 2, 512)         2359808   \n",
            "                                                                 \n",
            " activation_11 (Activation)  (None, 2, 2, 512)         0         \n",
            "                                                                 \n",
            " batch_normalization_15 (Bat  (None, 2, 2, 512)        2048      \n",
            " chNormalization)                                                \n",
            "                                                                 \n",
            " dropout_7 (Dropout)         (None, 2, 2, 512)         0         \n",
            "                                                                 \n",
            " conv2d_27 (Conv2D)          (None, 2, 2, 512)         2359808   \n",
            "                                                                 \n",
            " activation_12 (Activation)  (None, 2, 2, 512)         0         \n",
            "                                                                 \n",
            " batch_normalization_16 (Bat  (None, 2, 2, 512)        2048      \n",
            " chNormalization)                                                \n",
            "                                                                 \n",
            " max_pooling2d_19 (MaxPoolin  (None, 1, 1, 512)        0         \n",
            " g2D)                                                            \n",
            "                                                                 \n",
            " dropout_8 (Dropout)         (None, 1, 1, 512)         0         \n",
            "                                                                 \n",
            " flatten_5 (Flatten)         (None, 512)               0         \n",
            "                                                                 \n",
            " dense_10 (Dense)            (None, 512)               262656    \n",
            "                                                                 \n",
            " activation_13 (Activation)  (None, 512)               0         \n",
            "                                                                 \n",
            " batch_normalization_17 (Bat  (None, 512)              2048      \n",
            " chNormalization)                                                \n",
            "                                                                 \n",
            " dropout_9 (Dropout)         (None, 512)               0         \n",
            "                                                                 \n",
            " dense_11 (Dense)            (None, 100)               51300     \n",
            "                                                                 \n",
            " activation_14 (Activation)  (None, 100)               0         \n",
            "                                                                 \n",
            "=================================================================\n",
            "Total params: 15,047,588\n",
            "Trainable params: 15,038,116\n",
            "Non-trainable params: 9,472\n",
            "_________________________________________________________________\n"
          ]
        }
      ]
    },
    {
      "cell_type": "markdown",
      "metadata": {
        "id": "2JGWh3_1rQeZ"
      },
      "source": [
        "<font color='red'>Task: Make a new model, copy all layers except for the last six from the pretrained model and finetune it on the cifar10 dataset\n",
        ".</font> "
      ]
    },
    {
      "cell_type": "code",
      "metadata": {
        "colab": {
          "base_uri": "https://localhost:8080/"
        },
        "id": "L2_hAGQlrQeZ",
        "outputId": "2409b34a-ee6c-4f82-fc1b-36f9506147c5"
      },
      "source": [
        "model = Sequential()\n",
        "\n",
        "\n",
        "for layer in model_pre.layers[:-8]:\n",
        "    model.add(layer)\n",
        "    \n",
        "model.add(Flatten())\n",
        "model.add(Dense(64, activation='relu'))\n",
        "model.add(BatchNormalization())\n",
        "model.add(Dense(10, activation='softmax'))\n",
        "\n",
        "with tf.device('/gpu:0'):\n",
        "    model.compile(loss=keras.losses.categorical_crossentropy, optimizer=SGD(lr=0.1), metrics=['accuracy'])\n",
        "\n",
        "    history_10 = model.fit(x_train, y_train,\n",
        "              batch_size=batch_size,\n",
        "              epochs=10,\n",
        "              verbose=1,\n",
        "              validation_data=(x_test, y_test))\n",
        "\n",
        "    score_10 = model.evaluate(x_test, y_test, verbose=0)\n",
        "    \n",
        "darw_curve(score_10, history_10)"
      ],
      "execution_count": null,
      "outputs": [
        {
          "output_type": "stream",
          "name": "stderr",
          "text": [
            "/usr/local/lib/python3.7/dist-packages/keras/optimizer_v2/gradient_descent.py:102: UserWarning: The `lr` argument is deprecated, use `learning_rate` instead.\n",
            "  super(SGD, self).__init__(name, **kwargs)\n"
          ]
        },
        {
          "output_type": "stream",
          "name": "stdout",
          "text": [
            "Epoch 1/10\n",
            "391/391 [==============================] - 66s 156ms/step - loss: 1.2779 - accuracy: 0.7661 - val_loss: 1.3102 - val_accuracy: 0.7637\n",
            "Epoch 2/10\n",
            "391/391 [==============================] - 58s 149ms/step - loss: 1.0408 - accuracy: 0.8447 - val_loss: 1.0863 - val_accuracy: 0.8282\n",
            "Epoch 3/10\n",
            "391/391 [==============================] - 58s 149ms/step - loss: 0.9583 - accuracy: 0.8695 - val_loss: 1.0770 - val_accuracy: 0.8321\n",
            "Epoch 4/10\n",
            "184/391 [=============>................] - ETA: 29s - loss: 0.8988 - accuracy: 0.8872"
          ]
        }
      ]
    }
  ]
}