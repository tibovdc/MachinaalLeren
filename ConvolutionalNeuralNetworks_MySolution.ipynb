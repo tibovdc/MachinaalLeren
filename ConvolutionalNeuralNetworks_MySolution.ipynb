{
  "nbformat": 4,
  "nbformat_minor": 0,
  "metadata": {
    "kernelspec": {
      "display_name": "Python 3",
      "language": "python",
      "name": "python3"
    },
    "language_info": {
      "codemirror_mode": {
        "name": "ipython",
        "version": 3
      },
      "file_extension": ".py",
      "mimetype": "text/x-python",
      "name": "python",
      "nbconvert_exporter": "python",
      "pygments_lexer": "ipython3",
      "version": "3.6.9"
    },
    "colab": {
      "name": "ConvolutionalNeuralNetworks_Solution.ipynb",
      "provenance": []
    },
    "accelerator": "GPU"
  },
  "cells": [
    {
      "cell_type": "markdown",
      "metadata": {
        "id": "gBXGCP7JrQeM"
      },
      "source": [
        "# Lab 9: Convolutional neural networks\n",
        "In the last session, we reshaped our 28x28 images into a 784 dimensional vector since MLPs require one dimensional input data. This is fine for many types of data but in the case of images we are loosing a lot of information by treating the image as a vector of independent values. Neighboring pixels are highly correlated and we should exploit this knowledge to make our network more powerful. **Convolutional neural networks** use the **convolution** operation to do this. Here we will use **2D convolutional layers** that work on **2D input** (we only count the spatial dimensions here and not the channel dimension e.g. in the case of RGB images) although it is also possible to use them for 1D (e.g. timeseries) and 3D  input (e.g. video).\n",
        "\n",
        "A 2D convolutional network has a set of learned 2D **filters** or **kernels** that are moved over the input using a sliding window. At each position, the filter is multiplied with the underlying pixels to get a single output value for that position. By sliding the filter over the entire input, we get a **feature map**, a **filtered** version of the input. Intuitively, you can see the filter as a **feature detector** that scans the entire image for **patches** that match the feature. A convolutional layer has multiple filters (typically 64-4096). The size of the filter is a hyperparameter but in the case of image classification it is often 3, 5 or 7. \n",
        "\n",
        "There are three important characteristics that help convolutional neural networks to improve the performance of a model:\n",
        "- **Sparse interactions**: In a **fully connected layer**, every output value depends on every input value. Every neuron looks at the entire input. In a convolutional network we have a small filter that only looks at a small patch at a time. This **sparse connectivity** makes the network more efficient since it needs less parameters and allows the network to focus on small parts of the image at a time.\n",
        "- **Parameter sharing**: The same filter is used at every location in the image. This makes a lot of sense in the case of image recognition, a filter that detect edges for example will be useful at every location.\n",
        "- **Equivariant representations**: Convolutional representations are **equivariant to translation**. This means that if the input is moved to the left or to the right, then the output will also be moved accordingly. This is a very useful characteristic for image classification since it doesn't really matter if our digit is moved a few pixels to the left or to the right, the model should be able to deal with this.\n",
        "\n",
        "In addition to convolutions and non-linearities, convolutional neural networks also include **pooling layers**. These layers are not trained but perform a fixed operation that reduces the **spatial dimensionality** of the data. The most common pooling operation: **max pooling** looks at a subset of the feature map (for example 2x2 values) and reduces this to the maximum value. This allows the filters of the next layers to work on a larger part of the original input (**the receptive field**).\n",
        "\n",
        "<div>\n",
        "<img style=\"float:left\" src=\"images/conv.gif\"/>\n",
        "<img style=\"float:left, margin-left:50px\" src=\"images/pooling.png\"/>\n",
        "</div>\n",
        "\n",
        "\n",
        "Source: https://m-alcu.github.io/blog/2018/01/13/neural-layers/"
      ]
    },
    {
      "cell_type": "markdown",
      "metadata": {
        "id": "Kg9SKZuvrQeQ"
      },
      "source": [
        "Convolutional neural networks learn **hierarchies of features**. The first layers learn to detect basic, local features such as color transitions and edges. These are then combined by the next layers into basic shapes and finally into parts of objects.\n",
        "\n",
        "<img style=\"float:left, width=450\" src=\"images/features.png\"/>\n",
        "\n",
        "<br/>\n",
        "\n",
        "Source: https://towardsdatascience.com/convolutional-neural-network-for-breast-cancer-classification-52f1213dcc9\n"
      ]
    },
    {
      "cell_type": "markdown",
      "metadata": {
        "id": "YmmX-WCdrQeQ"
      },
      "source": [
        "This time we play with the CIFAR-10 dataset. Instead of reshaping it into a single vector, we keep the data as it is, which is 32x32x3 (**RGB**).\n",
        "Ref: https://keras.io/api/datasets/cifar10/\n",
        "\n",
        "<font color='red'>Task: Explore the dataset. What is the size of the training/testing set? What is the image size? Preprocess the data for training and testing by simply scaling the pixel values to [0,1]. </font>"
      ]
    },
    {
      "cell_type": "code",
      "metadata": {
        "colab": {
          "base_uri": "https://localhost:8080/"
        },
        "id": "W_dJGkIorQeS",
        "outputId": "d2aa63f1-c2b3-4d62-c417-1b1099b231bf"
      },
      "source": [
        "import timeit\n",
        "import matplotlib.pyplot as plt \n",
        "import numpy as np\n",
        "\n",
        "import tensorflow as tf\n",
        "import tensorflow.keras as keras\n",
        "from keras.datasets import cifar10, cifar100\n",
        "from tensorflow.keras import Sequential, layers\n",
        "from tensorflow.keras.layers import Flatten, Dense, Conv2D, MaxPooling2D, Dropout, BatchNormalization\n",
        "from tensorflow.keras.optimizers import SGD\n",
        "\n",
        "\n",
        "# the data, split between train and test sets\n",
        "(x_train, y_train), (x_test, y_test) = cifar10.load_data()\n",
        "\n",
        "\n",
        "... #print the shape of training and testing set, along with the image size\n",
        "print('x_train shape:', x_train.shape)#data\n",
        "print('y_train shape:', y_train.shape)#label\n",
        "print('x_test shape:', x_test.shape)\n",
        "print('y_test shape:', y_test.shape)\n",
        "\n",
        "...#define the input shape for the model\n",
        "input_shape = x_train[0].shape\n",
        "print(\"Model input shape:\", input_shape)\n",
        "\n",
        "...#normalize the data to 0~1\n",
        "x_train = x_train.astype('float32')\n",
        "x_test = x_test.astype('float32')\n",
        "x_train /= 255\n",
        "x_test /= 255\n",
        "\n",
        "...#define number of class \n",
        "num_classes = 10\n",
        "\n",
        "...#categorical the class\n",
        "y_train = keras.utils.to_categorical(y_train, num_classes)\n",
        "y_test = keras.utils.to_categorical(y_test, num_classes)\n",
        "\n",
        "batch_size = 128"
      ],
      "execution_count": 2,
      "outputs": [
        {
          "output_type": "stream",
          "name": "stdout",
          "text": [
            "Downloading data from https://www.cs.toronto.edu/~kriz/cifar-10-python.tar.gz\n",
            "170500096/170498071 [==============================] - 11s 0us/step\n",
            "170508288/170498071 [==============================] - 11s 0us/step\n",
            "x_train shape: (50000, 32, 32, 3)\n",
            "y_train shape: (50000, 1)\n",
            "x_test shape: (10000, 32, 32, 3)\n",
            "y_test shape: (10000, 1)\n",
            "Model input shape: (32, 32, 3)\n"
          ]
        }
      ]
    },
    {
      "cell_type": "markdown",
      "metadata": {
        "id": "YPWjaxo2rQeT"
      },
      "source": [
        "The code below defines a convolutional network with three convolutional layers, each followed by a maxpooling operation. After the last convolutional layer, we **flatten** the **representation** into a 1 dimensional vector and give it to a dense layer with 64 neurons followed by the output layer with 10 neurons. Intuitively, the convolutional part of the model extracts local image based features. The dense part combines all information over the entire image and uses that to do the final classification. There are many hyperparameters to configure such as the kernel size, the number of convolutional filters and the activation function. We use padding=\"same\" to pad the output of the convolutional layer with zeros to make it the same size as the input. This is not necessary but it makes it easier to calculate the intermediate feature dimensions. "
      ]
    },
    {
      "cell_type": "code",
      "metadata": {
        "colab": {
          "base_uri": "https://localhost:8080/"
        },
        "id": "3cNaAg1hrQeT",
        "outputId": "34b955b8-ffd3-44b1-fef1-99694e14d943"
      },
      "source": [
        "def build_model():\n",
        "  model = Sequential()\n",
        "  model.add(Conv2D(32, kernel_size=(3, 3), padding=\"same\", activation='relu', input_shape=input_shape))\n",
        "  model.add(MaxPooling2D(pool_size=(2, 2)))\n",
        "  model.add(Conv2D(64, (3, 3), activation='relu', padding=\"same\"))\n",
        "  model.add(MaxPooling2D(pool_size=(2, 2)))\n",
        "  model.add(Conv2D(64, (3, 3), activation='relu', padding=\"same\"))\n",
        "  model.add(MaxPooling2D(pool_size=(2, 2)))\n",
        "\n",
        "  model.add(Flatten())\n",
        "  model.add(Dense(64, activation='relu'))\n",
        "  model.add(Dense(10, activation='softmax'))\n",
        "  return model\n",
        "\n",
        "start = timeit.default_timer()\n",
        "\n",
        "...#force to train with cpu\n",
        "with tf.device('/cpu:0'):\n",
        "    model = build_model()\n",
        "    model.compile(loss=keras.losses.categorical_crossentropy, optimizer=SGD(lr=0.01), metrics=['accuracy'])\n",
        "\n",
        "    history = model.fit(x_train, y_train,\n",
        "              batch_size=batch_size,\n",
        "              epochs=2,\n",
        "              verbose=1,\n",
        "              validation_data=(x_test, y_test))\n",
        "\n",
        "    score = model.evaluate(x_test, y_test, verbose=0)\n",
        "    print(score)\n",
        "\n",
        "stop = timeit.default_timer()\n",
        "print('Computation time using CPU: ', stop - start)  "
      ],
      "execution_count": 3,
      "outputs": [
        {
          "output_type": "stream",
          "name": "stderr",
          "text": [
            "/usr/local/lib/python3.7/dist-packages/keras/optimizer_v2/gradient_descent.py:102: UserWarning: The `lr` argument is deprecated, use `learning_rate` instead.\n",
            "  super(SGD, self).__init__(name, **kwargs)\n"
          ]
        },
        {
          "output_type": "stream",
          "name": "stdout",
          "text": [
            "Epoch 1/2\n",
            "391/391 [==============================] - 101s 255ms/step - loss: 2.2534 - accuracy: 0.1798 - val_loss: 2.1332 - val_accuracy: 0.2365\n",
            "Epoch 2/2\n",
            "391/391 [==============================] - 99s 252ms/step - loss: 2.0142 - accuracy: 0.2801 - val_loss: 1.9301 - val_accuracy: 0.3063\n",
            "[1.9300720691680908, 0.30630001425743103]\n",
            "Computation time using CPU:  214.206400583\n"
          ]
        }
      ]
    },
    {
      "cell_type": "markdown",
      "metadata": {
        "id": "BbVCnWwarQeT"
      },
      "source": [
        "<font color='red'>Task: You can easily move the model to the GPU which should result in a large improvement in speed. You need a compatible NVIDIA GPU with all drivers installed to do this. You can use Google Colab to try this if you don't have a GPU (https://colab.research.google.com/). Make sure you select a GPU runtime on Colab (Runtime - Change runtime type - GPU).\n",
        " </font>"
      ]
    },
    {
      "cell_type": "code",
      "metadata": {
        "colab": {
          "base_uri": "https://localhost:8080/"
        },
        "id": "Bf3FYwPSrQeU",
        "outputId": "6e036b8f-d5c5-4e7a-ae9d-6722fcc5631a"
      },
      "source": [
        "start = timeit.default_timer()\n",
        "\n",
        "...#force to train with gpu\n",
        "with tf.device('/gpu:0'):\n",
        "    model = build_model()\n",
        "    model.compile(loss=keras.losses.categorical_crossentropy, optimizer=SGD(lr=0.01), metrics=['accuracy'])\n",
        "\n",
        "    history = model.fit(x_train, y_train,\n",
        "              batch_size=batch_size,\n",
        "              epochs=2,\n",
        "              verbose=1,\n",
        "              validation_data=(x_test, y_test))\n",
        "\n",
        "    score = model.evaluate(x_test, y_test, verbose=0)\n",
        "    print(score)\n",
        "\n",
        "stop = timeit.default_timer()\n",
        "print('Computation time using GPU: ', stop - start)  "
      ],
      "execution_count": 4,
      "outputs": [
        {
          "output_type": "stream",
          "name": "stderr",
          "text": [
            "/usr/local/lib/python3.7/dist-packages/keras/optimizer_v2/gradient_descent.py:102: UserWarning: The `lr` argument is deprecated, use `learning_rate` instead.\n",
            "  super(SGD, self).__init__(name, **kwargs)\n"
          ]
        },
        {
          "output_type": "stream",
          "name": "stdout",
          "text": [
            "Epoch 1/2\n",
            "391/391 [==============================] - 35s 15ms/step - loss: 2.2478 - accuracy: 0.1776 - val_loss: 2.1283 - val_accuracy: 0.2392\n",
            "Epoch 2/2\n",
            "391/391 [==============================] - 5s 13ms/step - loss: 2.0184 - accuracy: 0.2742 - val_loss: 1.9351 - val_accuracy: 0.3105\n",
            "[1.9351332187652588, 0.31049999594688416]\n",
            "Computation time using GPU:  44.00570292300006\n"
          ]
        }
      ]
    },
    {
      "cell_type": "markdown",
      "metadata": {
        "id": "wD7ePdIXrQeU"
      },
      "source": [
        "From the computataion time, it can be seen that GPU runs way faster than CPU."
      ]
    },
    {
      "cell_type": "markdown",
      "metadata": {
        "id": "W5juwK2WrQeU"
      },
      "source": [
        "<font color='red'>Task: Calculate the number of parameters in the convolutional layers and in the fully connected layers manually and compare this to the reported numbers. </font>"
      ]
    },
    {
      "cell_type": "code",
      "metadata": {
        "colab": {
          "base_uri": "https://localhost:8080/"
        },
        "id": "2mvY4U89rQeV",
        "outputId": "85258dba-6c1b-42fb-a3b4-11c95687453f"
      },
      "source": [
        "model.summary()\n",
        "\n",
        "print(\"Required memory: \", model.count_params()*4/1000, \"kb\")\n",
        "\n",
        "...#What's the number of parameters of convolution layers?\n",
        "#n_input_channel*kernel_1*kernel_2*n_output_channel + bias_output_channel\n",
        "n_convPara = 3*3*3*32+32 + 32*3*3*64+64 + 64*3*3*64+64\n",
        "print(\"Number of parameters for convolution layers: \", n_convPara)\n",
        "...#What's the number of parameters of fully connected layers?\n",
        "n_fclPara = 1024*64 + 64 + 64*10 + 10\n",
        "print(\"Number of parameters for fully connected layers: \", n_fclPara)"
      ],
      "execution_count": 5,
      "outputs": [
        {
          "output_type": "stream",
          "name": "stdout",
          "text": [
            "Model: \"sequential_1\"\n",
            "_________________________________________________________________\n",
            " Layer (type)                Output Shape              Param #   \n",
            "=================================================================\n",
            " conv2d_3 (Conv2D)           (None, 32, 32, 32)        896       \n",
            "                                                                 \n",
            " max_pooling2d_3 (MaxPooling  (None, 16, 16, 32)       0         \n",
            " 2D)                                                             \n",
            "                                                                 \n",
            " conv2d_4 (Conv2D)           (None, 16, 16, 64)        18496     \n",
            "                                                                 \n",
            " max_pooling2d_4 (MaxPooling  (None, 8, 8, 64)         0         \n",
            " 2D)                                                             \n",
            "                                                                 \n",
            " conv2d_5 (Conv2D)           (None, 8, 8, 64)          36928     \n",
            "                                                                 \n",
            " max_pooling2d_5 (MaxPooling  (None, 4, 4, 64)         0         \n",
            " 2D)                                                             \n",
            "                                                                 \n",
            " flatten_1 (Flatten)         (None, 1024)              0         \n",
            "                                                                 \n",
            " dense_2 (Dense)             (None, 64)                65600     \n",
            "                                                                 \n",
            " dense_3 (Dense)             (None, 10)                650       \n",
            "                                                                 \n",
            "=================================================================\n",
            "Total params: 122,570\n",
            "Trainable params: 122,570\n",
            "Non-trainable params: 0\n",
            "_________________________________________________________________\n",
            "Required memory:  490.28 kb\n",
            "Number of parameters for convolution layers:  56320\n",
            "Number of parameters for fully connected layers:  66250\n"
          ]
        }
      ]
    },
    {
      "cell_type": "markdown",
      "metadata": {
        "id": "rzU4kjmPrQeV"
      },
      "source": [
        "<font color='red'>Task: The code below trains the model for more epochs and shows the shows the loss and accuracy curve.</font>"
      ]
    },
    {
      "cell_type": "code",
      "metadata": {
        "colab": {
          "base_uri": "https://localhost:8080/",
          "height": 1000
        },
        "id": "DfQhaCsprQeV",
        "outputId": "65bdcbad-dbe7-454c-abd9-53570469d71e"
      },
      "source": [
        "with tf.device('/gpu:0'):\n",
        "    model = build_model()\n",
        "    model.compile(loss=keras.losses.categorical_crossentropy, optimizer=SGD(lr=0.01), metrics=['accuracy'])\n",
        "\n",
        "    history = model.fit(x_train, y_train,\n",
        "              batch_size=batch_size,\n",
        "              epochs=40,\n",
        "              verbose=1,\n",
        "              validation_data=(x_test, y_test))\n",
        "\n",
        "    score = model.evaluate(x_test, y_test, verbose=0)\n",
        "\n",
        "\n",
        "# Show the learning curve\n",
        "def draw_curve(score, history):\n",
        "    print('Test loss:', score[0])\n",
        "    print('Test accuracy:', score[1])\n",
        "    # Plot training & validation accuracy values\n",
        "    plt.plot(history.history['accuracy'])\n",
        "    plt.plot(history.history['val_accuracy'])\n",
        "    plt.title('Model accuracy')\n",
        "    plt.ylabel('Accuracy')\n",
        "    plt.xlabel('Epoch')\n",
        "    plt.legend(['Train', 'Test'], loc='upper left')\n",
        "    plt.show()\n",
        "\n",
        "    # Plot training & validation loss values\n",
        "    plt.plot(history.history['loss'])\n",
        "    plt.plot(history.history['val_loss'])\n",
        "    plt.title('Model loss')\n",
        "    plt.ylabel('Loss')\n",
        "    plt.xlabel('Epoch')\n",
        "    plt.legend(['Train', 'Test'], loc='upper left')\n",
        "    plt.show()\n",
        "\n",
        "draw_curve(score, history)"
      ],
      "execution_count": 6,
      "outputs": [
        {
          "output_type": "stream",
          "name": "stderr",
          "text": [
            "/usr/local/lib/python3.7/dist-packages/keras/optimizer_v2/gradient_descent.py:102: UserWarning: The `lr` argument is deprecated, use `learning_rate` instead.\n",
            "  super(SGD, self).__init__(name, **kwargs)\n"
          ]
        },
        {
          "output_type": "stream",
          "name": "stdout",
          "text": [
            "Epoch 1/40\n",
            "391/391 [==============================] - 6s 15ms/step - loss: 2.2604 - accuracy: 0.1698 - val_loss: 2.1789 - val_accuracy: 0.2122\n",
            "Epoch 2/40\n",
            "391/391 [==============================] - 5s 13ms/step - loss: 2.0238 - accuracy: 0.2821 - val_loss: 1.9354 - val_accuracy: 0.3133\n",
            "Epoch 3/40\n",
            "391/391 [==============================] - 5s 13ms/step - loss: 1.8576 - accuracy: 0.3471 - val_loss: 1.8057 - val_accuracy: 0.3542\n",
            "Epoch 4/40\n",
            "391/391 [==============================] - 5s 14ms/step - loss: 1.7414 - accuracy: 0.3848 - val_loss: 1.6907 - val_accuracy: 0.3951\n",
            "Epoch 5/40\n",
            "391/391 [==============================] - 5s 13ms/step - loss: 1.6468 - accuracy: 0.4156 - val_loss: 1.6643 - val_accuracy: 0.3947\n",
            "Epoch 6/40\n",
            "391/391 [==============================] - 5s 13ms/step - loss: 1.5750 - accuracy: 0.4391 - val_loss: 1.5569 - val_accuracy: 0.4370\n",
            "Epoch 7/40\n",
            "391/391 [==============================] - 5s 13ms/step - loss: 1.5218 - accuracy: 0.4585 - val_loss: 1.4972 - val_accuracy: 0.4730\n",
            "Epoch 8/40\n",
            "391/391 [==============================] - 5s 14ms/step - loss: 1.4725 - accuracy: 0.4747 - val_loss: 1.5639 - val_accuracy: 0.4565\n",
            "Epoch 9/40\n",
            "391/391 [==============================] - 5s 13ms/step - loss: 1.4358 - accuracy: 0.4900 - val_loss: 1.4792 - val_accuracy: 0.4769\n",
            "Epoch 10/40\n",
            "391/391 [==============================] - 5s 14ms/step - loss: 1.3953 - accuracy: 0.5047 - val_loss: 1.3570 - val_accuracy: 0.5128\n",
            "Epoch 11/40\n",
            "391/391 [==============================] - 5s 14ms/step - loss: 1.3660 - accuracy: 0.5134 - val_loss: 1.4772 - val_accuracy: 0.4751\n",
            "Epoch 12/40\n",
            "391/391 [==============================] - 5s 14ms/step - loss: 1.3358 - accuracy: 0.5273 - val_loss: 1.3835 - val_accuracy: 0.5069\n",
            "Epoch 13/40\n",
            "391/391 [==============================] - 5s 13ms/step - loss: 1.3080 - accuracy: 0.5376 - val_loss: 1.2926 - val_accuracy: 0.5414\n",
            "Epoch 14/40\n",
            "391/391 [==============================] - 5s 14ms/step - loss: 1.2742 - accuracy: 0.5495 - val_loss: 1.3195 - val_accuracy: 0.5201\n",
            "Epoch 15/40\n",
            "391/391 [==============================] - 5s 13ms/step - loss: 1.2490 - accuracy: 0.5575 - val_loss: 1.3366 - val_accuracy: 0.5209\n",
            "Epoch 16/40\n",
            "391/391 [==============================] - 5s 13ms/step - loss: 1.2209 - accuracy: 0.5696 - val_loss: 1.2472 - val_accuracy: 0.5515\n",
            "Epoch 17/40\n",
            "391/391 [==============================] - 5s 14ms/step - loss: 1.1939 - accuracy: 0.5793 - val_loss: 1.2439 - val_accuracy: 0.5537\n",
            "Epoch 18/40\n",
            "391/391 [==============================] - 5s 13ms/step - loss: 1.1675 - accuracy: 0.5880 - val_loss: 1.2615 - val_accuracy: 0.5536\n",
            "Epoch 19/40\n",
            "391/391 [==============================] - 5s 13ms/step - loss: 1.1429 - accuracy: 0.5986 - val_loss: 1.2350 - val_accuracy: 0.5572\n",
            "Epoch 20/40\n",
            "391/391 [==============================] - 5s 13ms/step - loss: 1.1199 - accuracy: 0.6083 - val_loss: 1.1792 - val_accuracy: 0.5829\n",
            "Epoch 21/40\n",
            "391/391 [==============================] - 5s 13ms/step - loss: 1.0977 - accuracy: 0.6165 - val_loss: 1.1115 - val_accuracy: 0.6088\n",
            "Epoch 22/40\n",
            "391/391 [==============================] - 5s 13ms/step - loss: 1.0734 - accuracy: 0.6251 - val_loss: 1.1124 - val_accuracy: 0.6109\n",
            "Epoch 23/40\n",
            "391/391 [==============================] - 5s 14ms/step - loss: 1.0557 - accuracy: 0.6308 - val_loss: 1.1245 - val_accuracy: 0.6013\n",
            "Epoch 24/40\n",
            "391/391 [==============================] - 5s 14ms/step - loss: 1.0329 - accuracy: 0.6396 - val_loss: 1.0529 - val_accuracy: 0.6301\n",
            "Epoch 25/40\n",
            "391/391 [==============================] - 5s 13ms/step - loss: 1.0148 - accuracy: 0.6479 - val_loss: 1.0737 - val_accuracy: 0.6285\n",
            "Epoch 26/40\n",
            "391/391 [==============================] - 5s 14ms/step - loss: 0.9978 - accuracy: 0.6521 - val_loss: 1.0894 - val_accuracy: 0.6154\n",
            "Epoch 27/40\n",
            "391/391 [==============================] - 5s 13ms/step - loss: 0.9823 - accuracy: 0.6578 - val_loss: 1.0271 - val_accuracy: 0.6413\n",
            "Epoch 28/40\n",
            "391/391 [==============================] - 5s 13ms/step - loss: 0.9629 - accuracy: 0.6663 - val_loss: 1.0235 - val_accuracy: 0.6419\n",
            "Epoch 29/40\n",
            "391/391 [==============================] - 5s 14ms/step - loss: 0.9488 - accuracy: 0.6703 - val_loss: 1.0096 - val_accuracy: 0.6468\n",
            "Epoch 30/40\n",
            "391/391 [==============================] - 5s 14ms/step - loss: 0.9371 - accuracy: 0.6728 - val_loss: 1.0091 - val_accuracy: 0.6522\n",
            "Epoch 31/40\n",
            "391/391 [==============================] - 5s 14ms/step - loss: 0.9245 - accuracy: 0.6806 - val_loss: 0.9855 - val_accuracy: 0.6589\n",
            "Epoch 32/40\n",
            "391/391 [==============================] - 5s 14ms/step - loss: 0.9075 - accuracy: 0.6835 - val_loss: 1.1506 - val_accuracy: 0.6014\n",
            "Epoch 33/40\n",
            "391/391 [==============================] - 5s 13ms/step - loss: 0.8925 - accuracy: 0.6907 - val_loss: 0.9870 - val_accuracy: 0.6552\n",
            "Epoch 34/40\n",
            "391/391 [==============================] - 5s 13ms/step - loss: 0.8798 - accuracy: 0.6948 - val_loss: 1.0015 - val_accuracy: 0.6546\n",
            "Epoch 35/40\n",
            "391/391 [==============================] - 5s 14ms/step - loss: 0.8688 - accuracy: 0.6981 - val_loss: 1.0002 - val_accuracy: 0.6570\n",
            "Epoch 36/40\n",
            "391/391 [==============================] - 5s 14ms/step - loss: 0.8552 - accuracy: 0.7031 - val_loss: 0.9943 - val_accuracy: 0.6598\n",
            "Epoch 37/40\n",
            "391/391 [==============================] - 5s 13ms/step - loss: 0.8441 - accuracy: 0.7079 - val_loss: 0.9500 - val_accuracy: 0.6699\n",
            "Epoch 38/40\n",
            "391/391 [==============================] - 5s 14ms/step - loss: 0.8347 - accuracy: 0.7109 - val_loss: 0.9336 - val_accuracy: 0.6787\n",
            "Epoch 39/40\n",
            "391/391 [==============================] - 5s 14ms/step - loss: 0.8217 - accuracy: 0.7148 - val_loss: 0.9545 - val_accuracy: 0.6738\n",
            "Epoch 40/40\n",
            "391/391 [==============================] - 5s 14ms/step - loss: 0.8075 - accuracy: 0.7204 - val_loss: 0.9479 - val_accuracy: 0.6731\n",
            "Test loss: 0.9478693604469299\n",
            "Test accuracy: 0.6730999946594238\n"
          ]
        },
        {
          "output_type": "display_data",
          "data": {
            "image/png": "[encoded data removed]",
            "text/plain": [
              "<Figure size 432x288 with 1 Axes>"
            ]
          },
          "metadata": {
            "needs_background": "light"
          }
        },
        {
          "output_type": "display_data",
          "data": {
            "image/png": "[encoded data removed]",
            "text/plain": [
              "<Figure size 432x288 with 1 Axes>"
            ]
          },
          "metadata": {
            "needs_background": "light"
          }
        }
      ]
    },
    {
      "cell_type": "markdown",
      "metadata": {
        "id": "jXJJaI38rQeV"
      },
      "source": [
        "# Data Augmentation\n",
        "Deep neural networks benefit from large amounts of training data. This can be expensive to collect. A cost effective alternative is **Data Augmentation** where we use simple techniques such as croping, rotating, fliping, ...  to generate new versions of existing training data points. \n",
        "\n",
        "\n",
        "<font color='red'>Task: Look at the different options for image data augmentation (https://keras.io/api/layers/preprocessing_layers/image_augmentation/). What augmentations make sense for our use case ? Experiment with them to see if you can increase the performance of the model </font>"
      ]
    },
    {
      "cell_type": "code",
      "metadata": {
        "colab": {
          "base_uri": "https://localhost:8080/",
          "height": 1000
        },
        "id": "zNq_oEQrrQeW",
        "outputId": "41cd2e62-2071-4cc3-e1b6-1a1abb152508"
      },
      "source": [
        "model = Sequential()\n",
        "...#add data augmentation into your model, add into your model\n",
        "model.add(layers.RandomFlip(mode=\"horizontal\"))\n",
        "model.add(layers.RandomZoom(height_factor=(-0.1, 0.1)))\n",
        "model.add(layers.RandomTranslation(height_factor=(-0.1, 0.1), width_factor=(-0.1, 0.1)))\n",
        "model.add(layers.RandomContrast(factor=0.1))\n",
        "\n",
        "model.add(Conv2D(32, kernel_size=(3, 3), padding=\"same\", activation='relu', input_shape=input_shape))\n",
        "model.add(MaxPooling2D(pool_size=(2, 2)))\n",
        "model.add(Conv2D(64, (3, 3), activation='relu', padding=\"same\"))\n",
        "model.add(MaxPooling2D(pool_size=(2, 2)))\n",
        "model.add(Conv2D(64, (3, 3), activation='relu', padding=\"same\"))\n",
        "model.add(MaxPooling2D(pool_size=(2, 2)))\n",
        "\n",
        "model.add(Flatten())\n",
        "model.add(Dense(64, activation='relu'))\n",
        "model.add(Dense(10, activation='softmax'))\n",
        "\n",
        "\n",
        "with tf.device('/gpu:0'):\n",
        "    model.compile(loss=keras.losses.categorical_crossentropy, optimizer=SGD(lr=0.01), metrics=['accuracy'])\n",
        "\n",
        "    history_da = model.fit(x_train, y_train,\n",
        "              batch_size=batch_size,\n",
        "              epochs=40,\n",
        "              verbose=1,\n",
        "              validation_data=(x_test, y_test))\n",
        "\n",
        "    score_da = model.evaluate(x_test, y_test, verbose=0)\n",
        "    print(score_da)\n",
        "    \n",
        "draw_curve(score_da, history_da)"
      ],
      "execution_count": 7,
      "outputs": [
        {
          "output_type": "stream",
          "name": "stderr",
          "text": [
            "/usr/local/lib/python3.7/dist-packages/keras/optimizer_v2/gradient_descent.py:102: UserWarning: The `lr` argument is deprecated, use `learning_rate` instead.\n",
            "  super(SGD, self).__init__(name, **kwargs)\n"
          ]
        },
        {
          "output_type": "stream",
          "name": "stdout",
          "text": [
            "Epoch 1/40\n",
            "391/391 [==============================] - 9s 20ms/step - loss: 2.2527 - accuracy: 0.1621 - val_loss: 2.1692 - val_accuracy: 0.2043\n",
            "Epoch 2/40\n",
            "391/391 [==============================] - 7s 18ms/step - loss: 2.0755 - accuracy: 0.2472 - val_loss: 1.9695 - val_accuracy: 0.2803\n",
            "Epoch 3/40\n",
            "391/391 [==============================] - 7s 17ms/step - loss: 1.9710 - accuracy: 0.2966 - val_loss: 1.9080 - val_accuracy: 0.3347\n",
            "Epoch 4/40\n",
            "391/391 [==============================] - 7s 17ms/step - loss: 1.8869 - accuracy: 0.3315 - val_loss: 1.8045 - val_accuracy: 0.3518\n",
            "Epoch 5/40\n",
            "391/391 [==============================] - 7s 17ms/step - loss: 1.8016 - accuracy: 0.3619 - val_loss: 1.6984 - val_accuracy: 0.4036\n",
            "Epoch 6/40\n",
            "391/391 [==============================] - 7s 17ms/step - loss: 1.7340 - accuracy: 0.3807 - val_loss: 1.6268 - val_accuracy: 0.4251\n",
            "Epoch 7/40\n",
            "391/391 [==============================] - 7s 17ms/step - loss: 1.6686 - accuracy: 0.4071 - val_loss: 1.5578 - val_accuracy: 0.4433\n",
            "Epoch 8/40\n",
            "391/391 [==============================] - 6s 16ms/step - loss: 1.6175 - accuracy: 0.4221 - val_loss: 1.5216 - val_accuracy: 0.4547\n",
            "Epoch 9/40\n",
            "391/391 [==============================] - 6s 16ms/step - loss: 1.5835 - accuracy: 0.4353 - val_loss: 1.4727 - val_accuracy: 0.4713\n",
            "Epoch 10/40\n",
            "391/391 [==============================] - 7s 17ms/step - loss: 1.5465 - accuracy: 0.4489 - val_loss: 1.4607 - val_accuracy: 0.4812\n",
            "Epoch 11/40\n",
            "391/391 [==============================] - 6s 16ms/step - loss: 1.5120 - accuracy: 0.4618 - val_loss: 1.4363 - val_accuracy: 0.4852\n",
            "Epoch 12/40\n",
            "391/391 [==============================] - 7s 17ms/step - loss: 1.4878 - accuracy: 0.4702 - val_loss: 1.4490 - val_accuracy: 0.4792\n",
            "Epoch 13/40\n",
            "391/391 [==============================] - 7s 17ms/step - loss: 1.4684 - accuracy: 0.4768 - val_loss: 1.4374 - val_accuracy: 0.4813\n",
            "Epoch 14/40\n",
            "391/391 [==============================] - 6s 16ms/step - loss: 1.4415 - accuracy: 0.4894 - val_loss: 1.3420 - val_accuracy: 0.5235\n",
            "Epoch 15/40\n",
            "391/391 [==============================] - 7s 17ms/step - loss: 1.4224 - accuracy: 0.4948 - val_loss: 1.5917 - val_accuracy: 0.4526\n",
            "Epoch 16/40\n",
            "391/391 [==============================] - 6s 16ms/step - loss: 1.4093 - accuracy: 0.4987 - val_loss: 1.3738 - val_accuracy: 0.5062\n",
            "Epoch 17/40\n",
            "391/391 [==============================] - 6s 16ms/step - loss: 1.3877 - accuracy: 0.5078 - val_loss: 1.2926 - val_accuracy: 0.5362\n",
            "Epoch 18/40\n",
            "391/391 [==============================] - 6s 16ms/step - loss: 1.3678 - accuracy: 0.5152 - val_loss: 1.3442 - val_accuracy: 0.5203\n",
            "Epoch 19/40\n",
            "391/391 [==============================] - 6s 16ms/step - loss: 1.3511 - accuracy: 0.5192 - val_loss: 1.2862 - val_accuracy: 0.5457\n",
            "Epoch 20/40\n",
            "391/391 [==============================] - 6s 16ms/step - loss: 1.3425 - accuracy: 0.5272 - val_loss: 1.2497 - val_accuracy: 0.5600\n",
            "Epoch 21/40\n",
            "391/391 [==============================] - 6s 16ms/step - loss: 1.3262 - accuracy: 0.5334 - val_loss: 1.2577 - val_accuracy: 0.5522\n",
            "Epoch 22/40\n",
            "391/391 [==============================] - 6s 16ms/step - loss: 1.3089 - accuracy: 0.5371 - val_loss: 1.3363 - val_accuracy: 0.5251\n",
            "Epoch 23/40\n",
            "391/391 [==============================] - 7s 17ms/step - loss: 1.2974 - accuracy: 0.5418 - val_loss: 1.2097 - val_accuracy: 0.5630\n",
            "Epoch 24/40\n",
            "391/391 [==============================] - 6s 16ms/step - loss: 1.2856 - accuracy: 0.5483 - val_loss: 1.2544 - val_accuracy: 0.5580\n",
            "Epoch 25/40\n",
            "391/391 [==============================] - 7s 17ms/step - loss: 1.2720 - accuracy: 0.5485 - val_loss: 1.2410 - val_accuracy: 0.5495\n",
            "Epoch 26/40\n",
            "391/391 [==============================] - 6s 16ms/step - loss: 1.2612 - accuracy: 0.5557 - val_loss: 1.1817 - val_accuracy: 0.5793\n",
            "Epoch 27/40\n",
            "391/391 [==============================] - 6s 16ms/step - loss: 1.2471 - accuracy: 0.5606 - val_loss: 1.2230 - val_accuracy: 0.5593\n",
            "Epoch 28/40\n",
            "391/391 [==============================] - 6s 16ms/step - loss: 1.2347 - accuracy: 0.5637 - val_loss: 1.1642 - val_accuracy: 0.5849\n",
            "Epoch 29/40\n",
            "391/391 [==============================] - 7s 17ms/step - loss: 1.2217 - accuracy: 0.5691 - val_loss: 1.1558 - val_accuracy: 0.5958\n",
            "Epoch 30/40\n",
            "391/391 [==============================] - 6s 16ms/step - loss: 1.2130 - accuracy: 0.5736 - val_loss: 1.1330 - val_accuracy: 0.5961\n",
            "Epoch 31/40\n",
            "391/391 [==============================] - 6s 16ms/step - loss: 1.2057 - accuracy: 0.5769 - val_loss: 1.1197 - val_accuracy: 0.6027\n",
            "Epoch 32/40\n",
            "391/391 [==============================] - 6s 16ms/step - loss: 1.1932 - accuracy: 0.5805 - val_loss: 1.2425 - val_accuracy: 0.5549\n",
            "Epoch 33/40\n",
            "391/391 [==============================] - 6s 16ms/step - loss: 1.1820 - accuracy: 0.5863 - val_loss: 1.0948 - val_accuracy: 0.6090\n",
            "Epoch 34/40\n",
            "391/391 [==============================] - 7s 17ms/step - loss: 1.1743 - accuracy: 0.5878 - val_loss: 1.0894 - val_accuracy: 0.6090\n",
            "Epoch 35/40\n",
            "391/391 [==============================] - 6s 16ms/step - loss: 1.1625 - accuracy: 0.5913 - val_loss: 1.1259 - val_accuracy: 0.5935\n",
            "Epoch 36/40\n",
            "391/391 [==============================] - 6s 16ms/step - loss: 1.1517 - accuracy: 0.5939 - val_loss: 1.1421 - val_accuracy: 0.5898\n",
            "Epoch 37/40\n",
            "391/391 [==============================] - 6s 16ms/step - loss: 1.1438 - accuracy: 0.5976 - val_loss: 1.1479 - val_accuracy: 0.5912\n",
            "Epoch 38/40\n",
            "391/391 [==============================] - 7s 17ms/step - loss: 1.1357 - accuracy: 0.6020 - val_loss: 1.1835 - val_accuracy: 0.5830\n",
            "Epoch 39/40\n",
            "391/391 [==============================] - 6s 16ms/step - loss: 1.1267 - accuracy: 0.6072 - val_loss: 1.1415 - val_accuracy: 0.6030\n",
            "Epoch 40/40\n",
            "391/391 [==============================] - 6s 16ms/step - loss: 1.1195 - accuracy: 0.6076 - val_loss: 1.1247 - val_accuracy: 0.5978\n",
            "[1.1246962547302246, 0.5978000164031982]\n",
            "Test loss: 1.1246962547302246\n",
            "Test accuracy: 0.5978000164031982\n"
          ]
        },
        {
          "output_type": "display_data",
          "data": {
            "image/png": "[encoded data removed]",
            "text/plain": [
              "<Figure size 432x288 with 1 Axes>"
            ]
          },
          "metadata": {
            "needs_background": "light"
          }
        },
        {
          "output_type": "display_data",
          "data": {
            "image/png": "[encoded data removed]",
            "text/plain": [
              "<Figure size 432x288 with 1 Axes>"
            ]
          },
          "metadata": {
            "needs_background": "light"
          }
        }
      ]
    },
    {
      "cell_type": "markdown",
      "metadata": {
        "id": "1UT-pL6TrQeW"
      },
      "source": [
        "<font color='red'>Task: Observe the training curves. Do you see a difference in the relationship between train and validation loss ? What could this indicate ? Was it a good idea to stop training after 40 epochs ? </font>"
      ]
    },
    {
      "cell_type": "markdown",
      "metadata": {
        "id": "iH9CMcYWrQeW"
      },
      "source": [
        "# Batch Normalization\n",
        "Batch normalization makes sure that the output of a layer has a mean of around zero and a standard deviation of about one. This often makes it easier for the model to train. It is unclear why exactly this is the case. \n",
        "<img style=\"float:left, width=100\" src=\"images/BN.png\"/>"
      ]
    },
    {
      "cell_type": "markdown",
      "metadata": {
        "id": "rJfaPqV5rQeW"
      },
      "source": [
        "<font color='red'>Task: Add batch normalize layers to your model, after each convolutional layer.</font>\n",
        "\n"
      ]
    },
    {
      "cell_type": "code",
      "metadata": {
        "colab": {
          "base_uri": "https://localhost:8080/",
          "height": 1000
        },
        "id": "PP9uQX6MrQeX",
        "outputId": "58c07ec9-7184-4c80-b3da-668b91e3855c"
      },
      "source": [
        "model = Sequential()\n",
        "...#add batch normlaization layer to your model\n",
        "model.add(Conv2D(32, kernel_size=(3, 3), padding=\"same\", activation='relu', input_shape=input_shape))\n",
        "model.add(BatchNormalization())\n",
        "model.add(MaxPooling2D(pool_size=(2, 2)))\n",
        "model.add(Conv2D(64, (3, 3), activation='relu', padding=\"same\"))\n",
        "model.add(BatchNormalization())\n",
        "model.add(MaxPooling2D(pool_size=(2, 2)))\n",
        "model.add(Conv2D(64, (3, 3), activation='relu', padding=\"same\"))\n",
        "model.add(BatchNormalization())\n",
        "model.add(MaxPooling2D(pool_size=(2, 2)))\n",
        "\n",
        "model.add(Flatten())\n",
        "model.add(Dense(64, activation='relu'))\n",
        "model.add(BatchNormalization())\n",
        "model.add(Dense(10, activation='softmax'))\n",
        "\n",
        "...#train with gpu\n",
        "with tf.device('/gpu:0'):\n",
        "    model.compile(loss=keras.losses.categorical_crossentropy, optimizer=SGD(lr=0.01), metrics=['accuracy'])\n",
        "\n",
        "    history_bn = model.fit(x_train, y_train,\n",
        "              batch_size=batch_size,\n",
        "              epochs=40,\n",
        "              verbose=1,\n",
        "              validation_data=(x_test, y_test))\n",
        "\n",
        "    score_bn = model.evaluate(x_test, y_test, verbose=0)\n",
        "    print(score_bn)\n",
        "    \n",
        "draw_curve(score_bn, history_bn)"
      ],
      "execution_count": 8,
      "outputs": [
        {
          "output_type": "stream",
          "name": "stderr",
          "text": [
            "/usr/local/lib/python3.7/dist-packages/keras/optimizer_v2/gradient_descent.py:102: UserWarning: The `lr` argument is deprecated, use `learning_rate` instead.\n",
            "  super(SGD, self).__init__(name, **kwargs)\n"
          ]
        },
        {
          "output_type": "stream",
          "name": "stdout",
          "text": [
            "Epoch 1/40\n",
            "391/391 [==============================] - 7s 17ms/step - loss: 1.6024 - accuracy: 0.4377 - val_loss: 2.2870 - val_accuracy: 0.1694\n",
            "Epoch 2/40\n",
            "391/391 [==============================] - 6s 16ms/step - loss: 1.2694 - accuracy: 0.5503 - val_loss: 1.3001 - val_accuracy: 0.5354\n",
            "Epoch 3/40\n",
            "391/391 [==============================] - 6s 16ms/step - loss: 1.1306 - accuracy: 0.6023 - val_loss: 1.3845 - val_accuracy: 0.5189\n",
            "Epoch 4/40\n",
            "391/391 [==============================] - 6s 16ms/step - loss: 1.0300 - accuracy: 0.6398 - val_loss: 1.8422 - val_accuracy: 0.4394\n",
            "Epoch 5/40\n",
            "391/391 [==============================] - 6s 16ms/step - loss: 0.9524 - accuracy: 0.6666 - val_loss: 1.2026 - val_accuracy: 0.5739\n",
            "Epoch 6/40\n",
            "391/391 [==============================] - 6s 16ms/step - loss: 0.8965 - accuracy: 0.6871 - val_loss: 1.4274 - val_accuracy: 0.5317\n",
            "Epoch 7/40\n",
            "391/391 [==============================] - 6s 16ms/step - loss: 0.8447 - accuracy: 0.7053 - val_loss: 1.3488 - val_accuracy: 0.5588\n",
            "Epoch 8/40\n",
            "391/391 [==============================] - 6s 16ms/step - loss: 0.8037 - accuracy: 0.7201 - val_loss: 1.0286 - val_accuracy: 0.6410\n",
            "Epoch 9/40\n",
            "391/391 [==============================] - 6s 16ms/step - loss: 0.7631 - accuracy: 0.7355 - val_loss: 1.0827 - val_accuracy: 0.6209\n",
            "Epoch 10/40\n",
            "391/391 [==============================] - 6s 16ms/step - loss: 0.7319 - accuracy: 0.7466 - val_loss: 1.2228 - val_accuracy: 0.5821\n",
            "Epoch 11/40\n",
            "391/391 [==============================] - 6s 16ms/step - loss: 0.6999 - accuracy: 0.7598 - val_loss: 0.9105 - val_accuracy: 0.6880\n",
            "Epoch 12/40\n",
            "391/391 [==============================] - 6s 16ms/step - loss: 0.6724 - accuracy: 0.7696 - val_loss: 0.8886 - val_accuracy: 0.6916\n",
            "Epoch 13/40\n",
            "391/391 [==============================] - 6s 16ms/step - loss: 0.6428 - accuracy: 0.7797 - val_loss: 1.1209 - val_accuracy: 0.6183\n",
            "Epoch 14/40\n",
            "391/391 [==============================] - 6s 16ms/step - loss: 0.6158 - accuracy: 0.7873 - val_loss: 1.1688 - val_accuracy: 0.6196\n",
            "Epoch 15/40\n",
            "391/391 [==============================] - 6s 16ms/step - loss: 0.5912 - accuracy: 0.7977 - val_loss: 0.9843 - val_accuracy: 0.6648\n",
            "Epoch 16/40\n",
            "391/391 [==============================] - 6s 16ms/step - loss: 0.5670 - accuracy: 0.8067 - val_loss: 1.0646 - val_accuracy: 0.6538\n",
            "Epoch 17/40\n",
            "391/391 [==============================] - 6s 16ms/step - loss: 0.5450 - accuracy: 0.8144 - val_loss: 0.9866 - val_accuracy: 0.6680\n",
            "Epoch 18/40\n",
            "391/391 [==============================] - 6s 16ms/step - loss: 0.5253 - accuracy: 0.8220 - val_loss: 0.9200 - val_accuracy: 0.6973\n",
            "Epoch 19/40\n",
            "391/391 [==============================] - 6s 16ms/step - loss: 0.4991 - accuracy: 0.8321 - val_loss: 1.0181 - val_accuracy: 0.6583\n",
            "Epoch 20/40\n",
            "391/391 [==============================] - 6s 16ms/step - loss: 0.4795 - accuracy: 0.8377 - val_loss: 0.9888 - val_accuracy: 0.6811\n",
            "Epoch 21/40\n",
            "391/391 [==============================] - 6s 16ms/step - loss: 0.4584 - accuracy: 0.8465 - val_loss: 1.0515 - val_accuracy: 0.6704\n",
            "Epoch 22/40\n",
            "391/391 [==============================] - 6s 16ms/step - loss: 0.4400 - accuracy: 0.8512 - val_loss: 0.9276 - val_accuracy: 0.6972\n",
            "Epoch 23/40\n",
            "391/391 [==============================] - 6s 16ms/step - loss: 0.4218 - accuracy: 0.8586 - val_loss: 1.1687 - val_accuracy: 0.6307\n",
            "Epoch 24/40\n",
            "391/391 [==============================] - 6s 16ms/step - loss: 0.4043 - accuracy: 0.8655 - val_loss: 0.9267 - val_accuracy: 0.7027\n",
            "Epoch 25/40\n",
            "391/391 [==============================] - 6s 16ms/step - loss: 0.3887 - accuracy: 0.8698 - val_loss: 0.9384 - val_accuracy: 0.7033\n",
            "Epoch 26/40\n",
            "391/391 [==============================] - 6s 16ms/step - loss: 0.3704 - accuracy: 0.8773 - val_loss: 1.3000 - val_accuracy: 0.6202\n",
            "Epoch 27/40\n",
            "391/391 [==============================] - 6s 16ms/step - loss: 0.3516 - accuracy: 0.8847 - val_loss: 1.0568 - val_accuracy: 0.6826\n",
            "Epoch 28/40\n",
            "391/391 [==============================] - 6s 16ms/step - loss: 0.3373 - accuracy: 0.8909 - val_loss: 1.0682 - val_accuracy: 0.6824\n",
            "Epoch 29/40\n",
            "391/391 [==============================] - 6s 16ms/step - loss: 0.3171 - accuracy: 0.8979 - val_loss: 1.0204 - val_accuracy: 0.6856\n",
            "Epoch 30/40\n",
            "391/391 [==============================] - 6s 16ms/step - loss: 0.3063 - accuracy: 0.9011 - val_loss: 1.0826 - val_accuracy: 0.6854\n",
            "Epoch 31/40\n",
            "391/391 [==============================] - 6s 16ms/step - loss: 0.2908 - accuracy: 0.9069 - val_loss: 1.3313 - val_accuracy: 0.6315\n",
            "Epoch 32/40\n",
            "391/391 [==============================] - 6s 16ms/step - loss: 0.2777 - accuracy: 0.9111 - val_loss: 1.0548 - val_accuracy: 0.6922\n",
            "Epoch 33/40\n",
            "391/391 [==============================] - 6s 16ms/step - loss: 0.2613 - accuracy: 0.9195 - val_loss: 1.0268 - val_accuracy: 0.7016\n",
            "Epoch 34/40\n",
            "391/391 [==============================] - 6s 16ms/step - loss: 0.2474 - accuracy: 0.9237 - val_loss: 1.0763 - val_accuracy: 0.6940\n",
            "Epoch 35/40\n",
            "391/391 [==============================] - 6s 16ms/step - loss: 0.2384 - accuracy: 0.9266 - val_loss: 1.1513 - val_accuracy: 0.6858\n",
            "Epoch 36/40\n",
            "391/391 [==============================] - 6s 16ms/step - loss: 0.2225 - accuracy: 0.9331 - val_loss: 1.0540 - val_accuracy: 0.7003\n",
            "Epoch 37/40\n",
            "391/391 [==============================] - 6s 16ms/step - loss: 0.2116 - accuracy: 0.9365 - val_loss: 1.1669 - val_accuracy: 0.6801\n",
            "Epoch 38/40\n",
            "391/391 [==============================] - 6s 16ms/step - loss: 0.2007 - accuracy: 0.9404 - val_loss: 1.2001 - val_accuracy: 0.6871\n",
            "Epoch 39/40\n",
            "391/391 [==============================] - 6s 16ms/step - loss: 0.1895 - accuracy: 0.9445 - val_loss: 1.2629 - val_accuracy: 0.6627\n",
            "Epoch 40/40\n",
            "391/391 [==============================] - 6s 16ms/step - loss: 0.1804 - accuracy: 0.9475 - val_loss: 1.1222 - val_accuracy: 0.6979\n",
            "[1.1222299337387085, 0.6978999972343445]\n",
            "Test loss: 1.1222299337387085\n",
            "Test accuracy: 0.6978999972343445\n"
          ]
        },
        {
          "output_type": "display_data",
          "data": {
            "image/png": "[encoded data removed]",
            "text/plain": [
              "<Figure size 432x288 with 1 Axes>"
            ]
          },
          "metadata": {
            "needs_background": "light"
          }
        },
        {
          "output_type": "display_data",
          "data": {
            "image/png": "[encoded data removed]",
            "text/plain": [
              "<Figure size 432x288 with 1 Axes>"
            ]
          },
          "metadata": {
            "needs_background": "light"
          }
        }
      ]
    },
    {
      "cell_type": "markdown",
      "metadata": {
        "id": "XodYBjR8rQeX"
      },
      "source": [
        "<font color='red'>Task: Investigate the training curves. What would you suggest as a next step ?\n",
        "</font>\n",
        "---\n",
        "\n"
      ]
    },
    {
      "cell_type": "markdown",
      "metadata": {
        "id": "XzMYf7ITrQeX"
      },
      "source": [
        "# Feature Map Visualization\n",
        "Visualizing the feature maps of a trained model helps us to better interpret the results and understand our model. \n",
        "There are several ways to visualize the feature maps. \n",
        "One of them is *Class Activation Map*, it visualizes the region where the model focuses on to make a prediction for a certain input.\n",
        "\n",
        "<img style=\"float:left, width=100\" src=\"images/CAM.png\"/>\n",
        "\n",
        "<br/>\n",
        "\n",
        "Source: https://arxiv.org/abs/1512.04150\n",
        "\n",
        "Extension: https://github.com/utkuozbulak/pytorch-cnn-visualizations\n",
        "\n",
        "Reference: https://keras.io/examples/vision/grad_cam/, \n",
        "\n",
        "\n",
        "<font color='red'>Task: Visualize the feature maps of trained model using provided functions. </font> "
      ]
    },
    {
      "cell_type": "code",
      "metadata": {
        "id": "XzCqy_vjrQeX"
      },
      "source": [
        "from IPython.display import Image, display\n",
        "import matplotlib.cm as cm\n",
        "import numpy as np\n",
        "\n",
        "def get_img_array(img_path, size):\n",
        "    img = keras.preprocessing.image.load_img(img_path, target_size=size)\n",
        "    array = keras.preprocessing.image.img_to_array(img)\n",
        "    array = np.expand_dims(array, axis=0)\n",
        "    return array\n",
        "\n",
        "def make_gradcam_heatmap(img_array, model, last_conv_layer_name, pred_index=None):\n",
        "    # First, we create a model that maps the input image to the activations\n",
        "    # of the last conv layer as well as the output predictions\n",
        "    grad_model = tf.keras.models.Model(\n",
        "        [model.inputs], [model.get_layer(last_conv_layer_name).output, model.output]\n",
        "    )\n",
        "\n",
        "    # Then, we compute the gradient of the top predicted class for our input image\n",
        "    # with respect to the activations of the last conv layer\n",
        "    with tf.GradientTape() as tape:\n",
        "        last_conv_layer_output, preds = grad_model(img_array)\n",
        "        if pred_index is None:\n",
        "            pred_index = tf.argmax(preds[0])\n",
        "        class_channel = preds[:, pred_index]\n",
        "\n",
        "    # This is the gradient of the output neuron (top predicted or chosen)\n",
        "    # with regard to the output feature map of the last conv layer\n",
        "    grads = tape.gradient(class_channel, last_conv_layer_output)\n",
        "\n",
        "    # This is a vector where each entry is the mean intensity of the gradient\n",
        "    # over a specific feature map channel\n",
        "    pooled_grads = tf.reduce_mean(grads, axis=(0, 1, 2))\n",
        "\n",
        "    # We multiply each channel in the feature map array\n",
        "    # by \"how important this channel is\" with regard to the top predicted class\n",
        "    # then sum all the channels to obtain the heatmap class activation\n",
        "    last_conv_layer_output = last_conv_layer_output[0]\n",
        "    heatmap = last_conv_layer_output @ pooled_grads[..., tf.newaxis]\n",
        "    heatmap = tf.squeeze(heatmap)\n",
        "\n",
        "    # For visualization purpose, we will also normalize the heatmap between 0 & 1\n",
        "    heatmap = tf.maximum(heatmap, 0) / tf.math.reduce_max(heatmap)\n",
        "    return heatmap.numpy()\n",
        "\n",
        "def save_and_display_gradcam(img, heatmap, alpha=0.1):\n",
        "    img = keras.preprocessing.image.img_to_array(img)\n",
        "\n",
        "    # Rescale heatmap to a range 0-255\n",
        "    heatmap = np.uint8(255 * heatmap)\n",
        "\n",
        "    # Use jet colormap to colorize heatmap\n",
        "    jet = cm.get_cmap(\"jet\")\n",
        "\n",
        "    # Use RGB values of the colormap\n",
        "    jet_colors = jet(np.arange(256))[:, :3]\n",
        "    jet_heatmap = jet_colors[heatmap]\n",
        "\n",
        "    # Create an image with RGB colorized heatmap\n",
        "    jet_heatmap = keras.preprocessing.image.array_to_img(jet_heatmap)\n",
        "    jet_heatmap = jet_heatmap.resize((img.shape[1], img.shape[0]))\n",
        "    jet_heatmap = keras.preprocessing.image.img_to_array(jet_heatmap)\n",
        "\n",
        "    # Superimpose the heatmap on original image\n",
        "    superimposed_img = jet_heatmap * alpha + img\n",
        "    superimposed_img = keras.preprocessing.image.array_to_img(superimposed_img)\n",
        "\n",
        "    return superimposed_img"
      ],
      "execution_count": 9,
      "outputs": []
    },
    {
      "cell_type": "markdown",
      "metadata": {
        "id": "9t-Dx69UrQeY"
      },
      "source": [
        "Prepare the data for heatmap visualization."
      ]
    },
    {
      "cell_type": "code",
      "metadata": {
        "colab": {
          "base_uri": "https://localhost:8080/",
          "height": 302
        },
        "id": "FZpX8jl0rQeY",
        "outputId": "e10a91f0-86ae-4cdb-dfbc-f1ba93a15428"
      },
      "source": [
        "# Set up ONE input image from the dataset. The input image must have the same shape as the model input (1, 32, 32, 3)\n",
        "idx = 9876\n",
        "img = np.expand_dims(x_train[idx], axis=0)\n",
        "\n",
        "#Run prediction to see if the model managed to identify the object.\n",
        "preds = model.predict(img)[0]\n",
        "print(\"Image Category:\", np.argmax(y_train[idx]))\n",
        "print(\"Predicted Result:\", np.argmax(preds))\n",
        "\n",
        "plt.imshow((img[0] * 255).astype(np.uint8))\n",
        "plt.show()"
      ],
      "execution_count": 10,
      "outputs": [
        {
          "output_type": "stream",
          "name": "stdout",
          "text": [
            "Image Category: 2\n",
            "Predicted Result: 2\n"
          ]
        },
        {
          "output_type": "display_data",
          "data": {
            "image/png": "[encoded data removed]",
            "text/plain": [
              "<Figure size 432x288 with 1 Axes>"
            ]
          },
          "metadata": {
            "needs_background": "light"
          }
        }
      ]
    },
    {
      "cell_type": "markdown",
      "metadata": {
        "id": "6PCH6FFFrQeY"
      },
      "source": [
        "<font color='red'>Task: Try different layer of the model and see its visualization.</font> "
      ]
    },
    {
      "cell_type": "code",
      "metadata": {
        "colab": {
          "base_uri": "https://localhost:8080/"
        },
        "id": "XNQgGvNGrQeY",
        "outputId": "3066ba8b-a83b-4dd8-f0d3-30d16b5d79ad"
      },
      "source": [
        "model.summary()"
      ],
      "execution_count": 11,
      "outputs": [
        {
          "output_type": "stream",
          "name": "stdout",
          "text": [
            "Model: \"sequential_4\"\n",
            "_________________________________________________________________\n",
            " Layer (type)                Output Shape              Param #   \n",
            "=================================================================\n",
            " conv2d_12 (Conv2D)          (None, 32, 32, 32)        896       \n",
            "                                                                 \n",
            " batch_normalization (BatchN  (None, 32, 32, 32)       128       \n",
            " ormalization)                                                   \n",
            "                                                                 \n",
            " max_pooling2d_12 (MaxPoolin  (None, 16, 16, 32)       0         \n",
            " g2D)                                                            \n",
            "                                                                 \n",
            " conv2d_13 (Conv2D)          (None, 16, 16, 64)        18496     \n",
            "                                                                 \n",
            " batch_normalization_1 (Batc  (None, 16, 16, 64)       256       \n",
            " hNormalization)                                                 \n",
            "                                                                 \n",
            " max_pooling2d_13 (MaxPoolin  (None, 8, 8, 64)         0         \n",
            " g2D)                                                            \n",
            "                                                                 \n",
            " conv2d_14 (Conv2D)          (None, 8, 8, 64)          36928     \n",
            "                                                                 \n",
            " batch_normalization_2 (Batc  (None, 8, 8, 64)         256       \n",
            " hNormalization)                                                 \n",
            "                                                                 \n",
            " max_pooling2d_14 (MaxPoolin  (None, 4, 4, 64)         0         \n",
            " g2D)                                                            \n",
            "                                                                 \n",
            " flatten_4 (Flatten)         (None, 1024)              0         \n",
            "                                                                 \n",
            " dense_8 (Dense)             (None, 64)                65600     \n",
            "                                                                 \n",
            " batch_normalization_3 (Batc  (None, 64)               256       \n",
            " hNormalization)                                                 \n",
            "                                                                 \n",
            " dense_9 (Dense)             (None, 10)                650       \n",
            "                                                                 \n",
            "=================================================================\n",
            "Total params: 123,466\n",
            "Trainable params: 123,018\n",
            "Non-trainable params: 448\n",
            "_________________________________________________________________\n"
          ]
        }
      ]
    },
    {
      "cell_type": "code",
      "metadata": {
        "colab": {
          "base_uri": "https://localhost:8080/",
          "height": 252
        },
        "id": "HSke0iHPrQeY",
        "outputId": "99a108a5-005a-412e-fce2-68cdd88ae8a7"
      },
      "source": [
        "...#Pick a convolution layer to generate the heatmap.\n",
        "conv_layer_name = \"batch_normalization_2\"\n",
        "\n",
        "...#Generate the activation heatmap using the functions provided in the previous cells.\n",
        "heatmap = make_gradcam_heatmap(img, model, conv_layer_name)\n",
        "\n",
        "# Display heatmap\n",
        "fig = plt.figure(figsize=(8, 4))\n",
        "fig.add_subplot(1, 2, 1)\n",
        "plt.imshow(heatmap)\n",
        "fig.add_subplot(1, 2, 2)\n",
        "\n",
        "...#Generate the superimposed visualization using the provided functions.\n",
        "heat_img = save_and_display_gradcam(img[0]*255, heatmap, alpha=0.9)\n",
        "plt.imshow(heat_img)\n",
        "plt.show()"
      ],
      "execution_count": 12,
      "outputs": [
        {
          "output_type": "display_data",
          "data": {
            "image/png": "[encoded data removed]",
            "text/plain": [
              "<Figure size 576x288 with 2 Axes>"
            ]
          },
          "metadata": {
            "needs_background": "light"
          }
        }
      ]
    },
    {
      "cell_type": "markdown",
      "metadata": {
        "id": "CGS3DNClrQeY"
      },
      "source": [
        "The heatmap generated by Grad-CAM shows the salient region of an image. \n",
        "The colour red indicates that the model considers this region is crucial to classify the image.\n",
        "The colour blue indicates that these region are less important to the task."
      ]
    },
    {
      "cell_type": "markdown",
      "metadata": {
        "id": "s-pxJXFYrQeY"
      },
      "source": [
        "# Transfer Learning\n",
        "Training a model from scratch requires a large amount of training data and compute power. A common technique to avoid this is to use transfer learning. Here we finteune a pretrained model for a new task. We simply download a trained model and change some of the layer to fit our task. Even though the intital model was trained for a different task, the features it has learned (edges, color transitions) might also be useful for other tasks.\n",
        "\n",
        "We will use a model that was pretrained on the CIFAR100 dataset. This is similar to CIFAR10 but contains 100 classes instead of 10.\n",
        "\n",
        "<img style=\"float:left, width=450\" src=\"images/TL.jpg\"/>\n",
        "\n",
        "\n",
        "Reference: https://github.com/geifmany/cifar-vgg"
      ]
    },
    {
      "cell_type": "code",
      "metadata": {
        "colab": {
          "resources": {
            "http://localhost:8080/nbextensions/google.colab/files.js": {
              "data": "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",
              "ok": true,
              "headers": [
                [
                  "content-type",
                  "application/javascript"
                ]
              ],
              "status": 200,
              "status_text": "OK"
            }
          },
          "base_uri": "https://localhost:8080/",
          "height": 74
        },
        "id": "TkIuGeQHSdYN",
        "outputId": "12e5f52c-2291-4ded-b6ea-f5d901117df4"
      },
      "source": [
        "from google.colab import files\n",
        "uploaded = files.upload()"
      ],
      "execution_count": 21,
      "outputs": [
        {
          "output_type": "display_data",
          "data": {
            "text/html": [
              "\n",
              "     <input type=\"file\" id=\"files-78af902d-d4a0-4d76-9ee7-310ae5e68f31\" name=\"files[]\" multiple disabled\n",
              "        style=\"border:none\" />\n",
              "     <output id=\"result-78af902d-d4a0-4d76-9ee7-310ae5e68f31\">\n",
              "      Upload widget is only available when the cell has been executed in the\n",
              "      current browser session. Please rerun this cell to enable.\n",
              "      </output>\n",
              "      <script src=\"/nbextensions/google.colab/files.js\"></script> "
            ],
            "text/plain": [
              "<IPython.core.display.HTML object>"
            ]
          },
          "metadata": {}
        },
        {
          "output_type": "stream",
          "name": "stdout",
          "text": [
            "Saving vgg16.py to vgg16.py\n"
          ]
        }
      ]
    },
    {
      "cell_type": "code",
      "metadata": {
        "colab": {
          "resources": {
            "http://localhost:8080/nbextensions/google.colab/files.js": {
              "data": "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",
              "ok": true,
              "headers": [
                [
                  "content-type",
                  "application/javascript"
                ]
              ],
              "status": 200,
              "status_text": "OK"
            }
          },
          "base_uri": "https://localhost:8080/",
          "height": 74
        },
        "id": "Scil-aFhSlaA",
        "outputId": "5877cd23-b247-4866-e03f-0ddf88de02d5"
      },
      "source": [
        "from google.colab import files\n",
        "uploaded = files.upload()"
      ],
      "execution_count": 22,
      "outputs": [
        {
          "output_type": "display_data",
          "data": {
            "text/html": [
              "\n",
              "     <input type=\"file\" id=\"files-8ee2c046-2854-4d96-a504-530c35ada333\" name=\"files[]\" multiple disabled\n",
              "        style=\"border:none\" />\n",
              "     <output id=\"result-8ee2c046-2854-4d96-a504-530c35ada333\">\n",
              "      Upload widget is only available when the cell has been executed in the\n",
              "      current browser session. Please rerun this cell to enable.\n",
              "      </output>\n",
              "      <script src=\"/nbextensions/google.colab/files.js\"></script> "
            ],
            "text/plain": [
              "<IPython.core.display.HTML object>"
            ]
          },
          "metadata": {}
        },
        {
          "output_type": "stream",
          "name": "stdout",
          "text": [
            "Saving cifar100vgg.h5 to cifar100vgg.h5\n"
          ]
        }
      ]
    },
    {
      "cell_type": "code",
      "metadata": {
        "colab": {
          "base_uri": "https://localhost:8080/"
        },
        "id": "TfEC99Q7rQeZ",
        "outputId": "9af59305-e58a-4042-db1a-9f4d056effd9"
      },
      "source": [
        "from vgg16 import cifar100vgg # Make sure to upload the vgg16.py file to colab \n",
        "\n",
        "model_pre = cifar100vgg('cifar100vgg.h5').model # Make sure to upload the cifar100vgg.h5 file to colab \n",
        "\n",
        "model_pre.summary()"
      ],
      "execution_count": 23,
      "outputs": [
        {
          "output_type": "stream",
          "name": "stdout",
          "text": [
            "Model: \"sequential_5\"\n",
            "_________________________________________________________________\n",
            " Layer (type)                Output Shape              Param #   \n",
            "=================================================================\n",
            " conv2d_15 (Conv2D)          (None, 32, 32, 64)        1792      \n",
            "                                                                 \n",
            " activation (Activation)     (None, 32, 32, 64)        0         \n",
            "                                                                 \n",
            " batch_normalization_4 (Batc  (None, 32, 32, 64)       256       \n",
            " hNormalization)                                                 \n",
            "                                                                 \n",
            " dropout (Dropout)           (None, 32, 32, 64)        0         \n",
            "                                                                 \n",
            " conv2d_16 (Conv2D)          (None, 32, 32, 64)        36928     \n",
            "                                                                 \n",
            " activation_1 (Activation)   (None, 32, 32, 64)        0         \n",
            "                                                                 \n",
            " batch_normalization_5 (Batc  (None, 32, 32, 64)       256       \n",
            " hNormalization)                                                 \n",
            "                                                                 \n",
            " max_pooling2d_15 (MaxPoolin  (None, 16, 16, 64)       0         \n",
            " g2D)                                                            \n",
            "                                                                 \n",
            " conv2d_17 (Conv2D)          (None, 16, 16, 128)       73856     \n",
            "                                                                 \n",
            " activation_2 (Activation)   (None, 16, 16, 128)       0         \n",
            "                                                                 \n",
            " batch_normalization_6 (Batc  (None, 16, 16, 128)      512       \n",
            " hNormalization)                                                 \n",
            "                                                                 \n",
            " dropout_1 (Dropout)         (None, 16, 16, 128)       0         \n",
            "                                                                 \n",
            " conv2d_18 (Conv2D)          (None, 16, 16, 128)       147584    \n",
            "                                                                 \n",
            " activation_3 (Activation)   (None, 16, 16, 128)       0         \n",
            "                                                                 \n",
            " batch_normalization_7 (Batc  (None, 16, 16, 128)      512       \n",
            " hNormalization)                                                 \n",
            "                                                                 \n",
            " max_pooling2d_16 (MaxPoolin  (None, 8, 8, 128)        0         \n",
            " g2D)                                                            \n",
            "                                                                 \n",
            " conv2d_19 (Conv2D)          (None, 8, 8, 256)         295168    \n",
            "                                                                 \n",
            " activation_4 (Activation)   (None, 8, 8, 256)         0         \n",
            "                                                                 \n",
            " batch_normalization_8 (Batc  (None, 8, 8, 256)        1024      \n",
            " hNormalization)                                                 \n",
            "                                                                 \n",
            " dropout_2 (Dropout)         (None, 8, 8, 256)         0         \n",
            "                                                                 \n",
            " conv2d_20 (Conv2D)          (None, 8, 8, 256)         590080    \n",
            "                                                                 \n",
            " activation_5 (Activation)   (None, 8, 8, 256)         0         \n",
            "                                                                 \n",
            " batch_normalization_9 (Batc  (None, 8, 8, 256)        1024      \n",
            " hNormalization)                                                 \n",
            "                                                                 \n",
            " dropout_3 (Dropout)         (None, 8, 8, 256)         0         \n",
            "                                                                 \n",
            " conv2d_21 (Conv2D)          (None, 8, 8, 256)         590080    \n",
            "                                                                 \n",
            " activation_6 (Activation)   (None, 8, 8, 256)         0         \n",
            "                                                                 \n",
            " batch_normalization_10 (Bat  (None, 8, 8, 256)        1024      \n",
            " chNormalization)                                                \n",
            "                                                                 \n",
            " max_pooling2d_17 (MaxPoolin  (None, 4, 4, 256)        0         \n",
            " g2D)                                                            \n",
            "                                                                 \n",
            " conv2d_22 (Conv2D)          (None, 4, 4, 512)         1180160   \n",
            "                                                                 \n",
            " activation_7 (Activation)   (None, 4, 4, 512)         0         \n",
            "                                                                 \n",
            " batch_normalization_11 (Bat  (None, 4, 4, 512)        2048      \n",
            " chNormalization)                                                \n",
            "                                                                 \n",
            " dropout_4 (Dropout)         (None, 4, 4, 512)         0         \n",
            "                                                                 \n",
            " conv2d_23 (Conv2D)          (None, 4, 4, 512)         2359808   \n",
            "                                                                 \n",
            " activation_8 (Activation)   (None, 4, 4, 512)         0         \n",
            "                                                                 \n",
            " batch_normalization_12 (Bat  (None, 4, 4, 512)        2048      \n",
            " chNormalization)                                                \n",
            "                                                                 \n",
            " dropout_5 (Dropout)         (None, 4, 4, 512)         0         \n",
            "                                                                 \n",
            " conv2d_24 (Conv2D)          (None, 4, 4, 512)         2359808   \n",
            "                                                                 \n",
            " activation_9 (Activation)   (None, 4, 4, 512)         0         \n",
            "                                                                 \n",
            " batch_normalization_13 (Bat  (None, 4, 4, 512)        2048      \n",
            " chNormalization)                                                \n",
            "                                                                 \n",
            " max_pooling2d_18 (MaxPoolin  (None, 2, 2, 512)        0         \n",
            " g2D)                                                            \n",
            "                                                                 \n",
            " conv2d_25 (Conv2D)          (None, 2, 2, 512)         2359808   \n",
            "                                                                 \n",
            " activation_10 (Activation)  (None, 2, 2, 512)         0         \n",
            "                                                                 \n",
            " batch_normalization_14 (Bat  (None, 2, 2, 512)        2048      \n",
            " chNormalization)                                                \n",
            "                                                                 \n",
            " dropout_6 (Dropout)         (None, 2, 2, 512)         0         \n",
            "                                                                 \n",
            " conv2d_26 (Conv2D)          (None, 2, 2, 512)         2359808   \n",
            "                                                                 \n",
            " activation_11 (Activation)  (None, 2, 2, 512)         0         \n",
            "                                                                 \n",
            " batch_normalization_15 (Bat  (None, 2, 2, 512)        2048      \n",
            " chNormalization)                                                \n",
            "                                                                 \n",
            " dropout_7 (Dropout)         (None, 2, 2, 512)         0         \n",
            "                                                                 \n",
            " conv2d_27 (Conv2D)          (None, 2, 2, 512)         2359808   \n",
            "                                                                 \n",
            " activation_12 (Activation)  (None, 2, 2, 512)         0         \n",
            "                                                                 \n",
            " batch_normalization_16 (Bat  (None, 2, 2, 512)        2048      \n",
            " chNormalization)                                                \n",
            "                                                                 \n",
            " max_pooling2d_19 (MaxPoolin  (None, 1, 1, 512)        0         \n",
            " g2D)                                                            \n",
            "                                                                 \n",
            " dropout_8 (Dropout)         (None, 1, 1, 512)         0         \n",
            "                                                                 \n",
            " flatten_5 (Flatten)         (None, 512)               0         \n",
            "                                                                 \n",
            " dense_10 (Dense)            (None, 512)               262656    \n",
            "                                                                 \n",
            " activation_13 (Activation)  (None, 512)               0         \n",
            "                                                                 \n",
            " batch_normalization_17 (Bat  (None, 512)              2048      \n",
            " chNormalization)                                                \n",
            "                                                                 \n",
            " dropout_9 (Dropout)         (None, 512)               0         \n",
            "                                                                 \n",
            " dense_11 (Dense)            (None, 100)               51300     \n",
            "                                                                 \n",
            " activation_14 (Activation)  (None, 100)               0         \n",
            "                                                                 \n",
            "=================================================================\n",
            "Total params: 15,047,588\n",
            "Trainable params: 15,038,116\n",
            "Non-trainable params: 9,472\n",
            "_________________________________________________________________\n"
          ]
        }
      ]
    },
    {
      "cell_type": "markdown",
      "metadata": {
        "id": "2JGWh3_1rQeZ"
      },
      "source": [
        "<font color='red'>Task: Make a new model, copy all layers except for the last six from the pretrained model and finetune it on the cifar10 dataset\n",
        ".</font> "
      ]
    },
    {
      "cell_type": "code",
      "metadata": {
        "colab": {
          "base_uri": "https://localhost:8080/",
          "height": 1000
        },
        "id": "L2_hAGQlrQeZ",
        "outputId": "e1a30324-6e25-4b5b-9cca-93e72efa5724"
      },
      "source": [
        "model = Sequential()\n",
        "\n",
        "\n",
        "for layer in model_pre.layers[:-8]:\n",
        "    model.add(layer)\n",
        "    \n",
        "model.add(Flatten())\n",
        "model.add(Dense(64, activation='relu'))\n",
        "model.add(BatchNormalization())\n",
        "model.add(Dense(10, activation='softmax'))\n",
        "\n",
        "with tf.device('/gpu:0'):\n",
        "    model.compile(loss=keras.losses.categorical_crossentropy, optimizer=SGD(lr=0.1), metrics=['accuracy'])\n",
        "\n",
        "    history_10 = model.fit(x_train, y_train,\n",
        "              batch_size=batch_size,\n",
        "              epochs=10,\n",
        "              verbose=1,\n",
        "              validation_data=(x_test, y_test))\n",
        "\n",
        "    score_10 = model.evaluate(x_test, y_test, verbose=0)\n",
        "    \n",
        "draw_curve(score_10, history_10)"
      ],
      "execution_count": 24,
      "outputs": [
        {
          "output_type": "stream",
          "name": "stderr",
          "text": [
            "/usr/local/lib/python3.7/dist-packages/keras/optimizer_v2/gradient_descent.py:102: UserWarning: The `lr` argument is deprecated, use `learning_rate` instead.\n",
            "  super(SGD, self).__init__(name, **kwargs)\n"
          ]
        },
        {
          "output_type": "stream",
          "name": "stdout",
          "text": [
            "Epoch 1/10\n",
            "391/391 [==============================] - 63s 150ms/step - loss: 1.2918 - accuracy: 0.7632 - val_loss: 1.2628 - val_accuracy: 0.7797\n",
            "Epoch 2/10\n",
            "391/391 [==============================] - 56s 144ms/step - loss: 1.0448 - accuracy: 0.8436 - val_loss: 1.4449 - val_accuracy: 0.7162\n",
            "Epoch 3/10\n",
            "391/391 [==============================] - 56s 144ms/step - loss: 0.9549 - accuracy: 0.8707 - val_loss: 1.1136 - val_accuracy: 0.8270\n",
            "Epoch 4/10\n",
            "391/391 [==============================] - 56s 145ms/step - loss: 0.9015 - accuracy: 0.8849 - val_loss: 1.1934 - val_accuracy: 0.7939\n",
            "Epoch 5/10\n",
            "391/391 [==============================] - 57s 145ms/step - loss: 0.8619 - accuracy: 0.8959 - val_loss: 1.0381 - val_accuracy: 0.8429\n",
            "Epoch 6/10\n",
            "391/391 [==============================] - 57s 145ms/step - loss: 0.8325 - accuracy: 0.9040 - val_loss: 0.9535 - val_accuracy: 0.8654\n",
            "Epoch 7/10\n",
            "391/391 [==============================] - 56s 144ms/step - loss: 0.8049 - accuracy: 0.9107 - val_loss: 0.9669 - val_accuracy: 0.8664\n",
            "Epoch 8/10\n",
            "391/391 [==============================] - 57s 145ms/step - loss: 0.7835 - accuracy: 0.9173 - val_loss: 1.1551 - val_accuracy: 0.8140\n",
            "Epoch 9/10\n",
            "391/391 [==============================] - 57s 145ms/step - loss: 0.7650 - accuracy: 0.9215 - val_loss: 0.9915 - val_accuracy: 0.8541\n",
            "Epoch 10/10\n",
            "391/391 [==============================] - 57s 145ms/step - loss: 0.7533 - accuracy: 0.9238 - val_loss: 1.0549 - val_accuracy: 0.8365\n",
            "Test loss: 1.0549153089523315\n",
            "Test accuracy: 0.8364999890327454\n"
          ]
        },
        {
          "output_type": "display_data",
          "data": {
            "image/png": "[encoded data removed]",
            "text/plain": [
              "<Figure size 432x288 with 1 Axes>"
            ]
          },
          "metadata": {
            "needs_background": "light"
          }
        },
        {
          "output_type": "display_data",
          "data": {
            "image/png": "[encoded data removed]",
            "text/plain": [
              "<Figure size 432x288 with 1 Axes>"
            ]
          },
          "metadata": {
            "needs_background": "light"
          }
        }
      ]
    }
  ]
}