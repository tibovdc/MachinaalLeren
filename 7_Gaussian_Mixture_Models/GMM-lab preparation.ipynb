{
 "cells": [
  {
   "cell_type": "markdown",
   "id": "ca48e17c",
   "metadata": {},
   "source": [
    "# Preparation for the lab on Gaussian Mixture Models\n",
    "* If not done yet, first install the nilmtk library and the sckit-image library in your conda or pip environment.\n",
    "  * https://scikit-image.org/docs/0.14.x/install.html\n",
    "  * https://github.com/nilmtk/nilmtk/blob/master/docs/manual/user_guide/install_user.md\n",
    "* Download the provided dataset, and make sure it is available in a directory './low_freq'.\n",
    "* Create a .h5 index file on your machine of the dataset. This might take a while!"
   ]
  },
  {
   "cell_type": "code",
   "execution_count": 2,
   "id": "7f977182",
   "metadata": {},
   "outputs": [
    {
     "ename": "ModuleNotFoundError",
     "evalue": "No module named 'nilmtk'",
     "output_type": "error",
     "traceback": [
      "\u001b[1;31m---------------------------------------------------------------------------\u001b[0m",
      "\u001b[1;31mModuleNotFoundError\u001b[0m                       Traceback (most recent call last)",
      "\u001b[1;32m~\\AppData\\Local\\Temp/ipykernel_11916/756614954.py\u001b[0m in \u001b[0;36m<module>\u001b[1;34m\u001b[0m\n\u001b[1;32m----> 1\u001b[1;33m \u001b[1;32mfrom\u001b[0m \u001b[0mnilmtk\u001b[0m\u001b[1;33m.\u001b[0m\u001b[0mdataset_converters\u001b[0m \u001b[1;32mimport\u001b[0m \u001b[0mconvert_redd\u001b[0m\u001b[1;33m\u001b[0m\u001b[1;33m\u001b[0m\u001b[0m\n\u001b[0m\u001b[0;32m      2\u001b[0m \u001b[0mconvert_redd\u001b[0m\u001b[1;33m(\u001b[0m\u001b[1;34m'./low_freq'\u001b[0m\u001b[1;33m,\u001b[0m \u001b[1;34m'./redd.h5'\u001b[0m\u001b[1;33m)\u001b[0m\u001b[1;33m\u001b[0m\u001b[1;33m\u001b[0m\u001b[0m\n",
      "\u001b[1;31mModuleNotFoundError\u001b[0m: No module named 'nilmtk'"
     ]
    }
   ],
   "source": [
    "from nilmtk.dataset_converters import convert_redd\n",
    "convert_redd('./low_freq', './redd.h5')"
   ]
  }
 ],
 "metadata": {
  "interpreter": {
   "hash": "693d0bddc17adaedc1a7b5c75d2aff2dd75019fa03ffa9d7ded0b30e6f64006f"
  },
  "kernelspec": {
   "display_name": "Python 3.9.7 64-bit",
   "name": "python3"
  },
  "language_info": {
   "codemirror_mode": {
    "name": "ipython",
    "version": 3
   },
   "file_extension": ".py",
   "mimetype": "text/x-python",
   "name": "python",
   "nbconvert_exporter": "python",
   "pygments_lexer": "ipython3",
   "version": "3.9.7"
  }
 },
 "nbformat": 4,
 "nbformat_minor": 5
}
